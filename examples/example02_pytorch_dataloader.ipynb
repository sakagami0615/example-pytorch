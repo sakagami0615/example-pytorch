{
 "cells": [
  {
   "cell_type": "markdown",
   "metadata": {
    "id": "mBBCDm5NKfhY"
   },
   "source": [
    "# Example 02: PyTorch DataLoader"
   ]
  },
  {
   "cell_type": "markdown",
   "metadata": {},
   "source": [
    "## 事前準備"
   ]
  },
  {
   "cell_type": "code",
   "execution_count": 1,
   "metadata": {},
   "outputs": [
    {
     "data": {
      "text/plain": [
       "device(type='cuda')"
      ]
     },
     "execution_count": 1,
     "metadata": {},
     "output_type": "execute_result"
    }
   ],
   "source": [
    "import torch\n",
    "\n",
    "# GPUが使えるか確認してデバイスを設定\n",
    "# NOTE: `x = x.to(device) ` とすることで対象のデバイスに切り替え可能\n",
    "device = torch.device(\"cuda\" if torch.cuda.is_available() else \"cpu\")\n",
    "device"
   ]
  },
  {
   "cell_type": "markdown",
   "metadata": {
    "id": "q8OQOVOH75dA"
   },
   "source": [
    "## 自動微分"
   ]
  },
  {
   "cell_type": "code",
   "execution_count": 2,
   "metadata": {},
   "outputs": [],
   "source": [
    "import torch\n",
    "from tqdm.notebook import tqdm"
   ]
  },
  {
   "cell_type": "markdown",
   "metadata": {},
   "source": [
    "### requires_grad属性\n",
    "\n",
    "Tensorのrequires_grad属性をTrueにすることで、各要素の勾配が自動微分の計算対象となる。  \n",
    "また、requires_grad属性をTrueの場合、Tensorの演算をすることで、grad_fnが記録される。"
   ]
  },
  {
   "cell_type": "code",
   "execution_count": 3,
   "metadata": {
    "colab": {
     "base_uri": "https://localhost:8080/"
    },
    "id": "TA_iXNzn50-T",
    "outputId": "a9244425-9c9a-4c0f-8fa1-123b51581525"
   },
   "outputs": [
    {
     "data": {
      "text/plain": [
       "tensor([[1., 1., 1.],\n",
       "        [1., 1., 1.]], requires_grad=True)"
      ]
     },
     "execution_count": 3,
     "metadata": {},
     "output_type": "execute_result"
    }
   ],
   "source": [
    "x = torch.ones(2, 3, requires_grad=True)\n",
    "x"
   ]
  },
  {
   "cell_type": "code",
   "execution_count": 4,
   "metadata": {
    "colab": {
     "base_uri": "https://localhost:8080/"
    },
    "id": "qO1tQfxF6LfV",
    "outputId": "589d74a7-df0c-4582-b05b-c4d128cd6b44"
   },
   "outputs": [
    {
     "data": {
      "text/plain": [
       "tensor([[3., 3., 3.],\n",
       "        [3., 3., 3.]], grad_fn=<AddBackward0>)"
      ]
     },
     "execution_count": 4,
     "metadata": {},
     "output_type": "execute_result"
    }
   ],
   "source": [
    "y = x + 2\n",
    "y"
   ]
  },
  {
   "cell_type": "markdown",
   "metadata": {},
   "source": [
    "### 勾配の自動計算"
   ]
  },
  {
   "cell_type": "code",
   "execution_count": 5,
   "metadata": {
    "colab": {
     "base_uri": "https://localhost:8080/"
    },
    "id": "Rk2rpDat61dv",
    "outputId": "5100a622-ae2c-4b00-ec36-1b8b36a039cd"
   },
   "outputs": [
    {
     "data": {
      "text/plain": [
       "tensor([2.])"
      ]
     },
     "execution_count": 5,
     "metadata": {},
     "output_type": "execute_result"
    }
   ],
   "source": [
    "a = torch.tensor([1.0], requires_grad=True)\n",
    "b = a * 2\n",
    "\n",
    "# 逆伝搬\n",
    "b.backward()\n",
    "\n",
    "# b = 2 * a をaで微分するため、結果は2となる\n",
    "a.grad"
   ]
  },
  {
   "cell_type": "markdown",
   "metadata": {
    "id": "s8flvTDv8-Ty"
   },
   "source": [
    "## DataLoader"
   ]
  },
  {
   "cell_type": "code",
   "execution_count": 6,
   "metadata": {},
   "outputs": [],
   "source": [
    "from torch import nn\n",
    "from torch import optim\n",
    "from torch.utils.data import DataLoader\n",
    "\n",
    "from torchvision import transforms\n",
    "from torchvision.datasets import MNIST\n",
    "\n",
    "import matplotlib.pyplot as plt"
   ]
  },
  {
   "cell_type": "markdown",
   "metadata": {},
   "source": [
    "### MNISTデータセット取得"
   ]
  },
  {
   "cell_type": "code",
   "execution_count": 7,
   "metadata": {
    "colab": {
     "base_uri": "https://localhost:8080/"
    },
    "id": "TiViN80L7MjH",
    "outputId": "31e7a8fe-c3c7-49c7-d294-18a57c364f82"
   },
   "outputs": [
    {
     "name": "stdout",
     "output_type": "stream",
     "text": [
      "n_train: 60000, n_test: 10000\n"
     ]
    }
   ],
   "source": [
    "# 画像幅、高さ\n",
    "img_size = 28\n",
    "\n",
    "# 訓練データ\n",
    "mnist_train = MNIST(\n",
    "    \"../cache/data\",\n",
    "    train=True,\n",
    "    download=True,\n",
    "    transform=transforms.ToTensor()\n",
    ")\n",
    "\n",
    "# 検証データ\n",
    "mnist_test = MNIST(\n",
    "    \"../cache/data\",\n",
    "    train=False,\n",
    "    download=True,\n",
    "    transform=transforms.ToTensor()\n",
    ")\n",
    "\n",
    "print(f\"n_train: {len(mnist_train)}, n_test: {len(mnist_test)}\")"
   ]
  },
  {
   "cell_type": "markdown",
   "metadata": {},
   "source": [
    "### DataLoaderの設定"
   ]
  },
  {
   "cell_type": "code",
   "execution_count": 8,
   "metadata": {
    "id": "v4hbLY9x9pXB"
   },
   "outputs": [],
   "source": [
    "batch_size = 128\n",
    "\n",
    "train_loader = DataLoader(mnist_train, batch_size=batch_size, shuffle=True)\n",
    "test_loader = DataLoader(mnist_test, batch_size=batch_size, shuffle=False)"
   ]
  },
  {
   "cell_type": "markdown",
   "metadata": {},
   "source": [
    "### モデル構築"
   ]
  },
  {
   "cell_type": "code",
   "execution_count": 9,
   "metadata": {
    "colab": {
     "base_uri": "https://localhost:8080/"
    },
    "id": "xXHcRJHQ-Dvm",
    "outputId": "e5501684-2b20-4761-d646-86794f9235d2"
   },
   "outputs": [],
   "source": [
    "class Net(nn.Module):\n",
    "\n",
    "    def __init__(self):\n",
    "        super().__init__()\n",
    "        self.fc1 = nn.Linear(img_size * img_size, 1024)\n",
    "        self.fc2 = nn.Linear(1024, 512)\n",
    "        self.fc3 = nn.Linear(512, 10)\n",
    "        self.relu = nn.ReLU()\n",
    "\n",
    "    def forward(self, x):\n",
    "        x = x.view(-1, img_size * img_size)     # 画像を1次元に変換\n",
    "        x = self.relu(self.fc1(x))\n",
    "        x = self.relu(self.fc2(x))\n",
    "        x = self.fc3(x)\n",
    "        return x"
   ]
  },
  {
   "cell_type": "code",
   "execution_count": 10,
   "metadata": {},
   "outputs": [
    {
     "data": {
      "text/plain": [
       "Net(\n",
       "  (fc1): Linear(in_features=784, out_features=1024, bias=True)\n",
       "  (fc2): Linear(in_features=1024, out_features=512, bias=True)\n",
       "  (fc3): Linear(in_features=512, out_features=10, bias=True)\n",
       "  (relu): ReLU()\n",
       ")"
      ]
     },
     "execution_count": 10,
     "metadata": {},
     "output_type": "execute_result"
    }
   ],
   "source": [
    "net = Net()\n",
    "net.to(device)"
   ]
  },
  {
   "cell_type": "markdown",
   "metadata": {},
   "source": [
    "### 学習"
   ]
  },
  {
   "cell_type": "code",
   "execution_count": 11,
   "metadata": {
    "colab": {
     "base_uri": "https://localhost:8080/"
    },
    "id": "05gRY45f-90R",
    "outputId": "30565902-3df4-4feb-c376-71a25d5fa4fe"
   },
   "outputs": [
    {
     "data": {
      "application/vnd.jupyter.widget-view+json": {
       "model_id": "5bd0b0c455ff45b6a6ca150fc0fefb56",
       "version_major": 2,
       "version_minor": 0
      },
      "text/plain": [
       "  0%|          | 0/10 [00:00<?, ?it/s]"
      ]
     },
     "metadata": {},
     "output_type": "display_data"
    },
    {
     "name": "stdout",
     "output_type": "stream",
     "text": [
      "Epoch: 0, loss_train: 2.026443415867494, loss_test: 1.4496136722685415\n",
      "Epoch: 1, loss_train: 0.9287951439936787, loss_test: 0.6094602719892429\n",
      "Epoch: 2, loss_train: 0.5296355740093728, loss_test: 0.4403693290262283\n",
      "Epoch: 3, loss_train: 0.4236749505945869, loss_test: 0.3735469566021539\n",
      "Epoch: 4, loss_train: 0.375251441558541, loss_test: 0.3403047542028789\n",
      "Epoch: 5, loss_train: 0.3464033162352373, loss_test: 0.3178580661268928\n",
      "Epoch: 6, loss_train: 0.32574120135322565, loss_test: 0.3015084633297181\n",
      "Epoch: 7, loss_train: 0.30962558112927335, loss_test: 0.2869477497437332\n",
      "Epoch: 8, loss_train: 0.2959507561123956, loss_test: 0.27753278881877286\n",
      "Epoch: 9, loss_train: 0.2840567644534589, loss_test: 0.2655311071702951\n",
      "CPU times: user 27.2 s, sys: 1.14 s, total: 28.4 s\n",
      "Wall time: 27.2 s\n"
     ]
    }
   ],
   "source": [
    "%%time\n",
    "loss_func = nn.CrossEntropyLoss()\n",
    "optimizer = optim.SGD(net.parameters(), lr=0.01)\n",
    "\n",
    "record_loss_train = []\n",
    "record_loss_test = []\n",
    "\n",
    "n_epochs = 10\n",
    "verbose = 1\n",
    "\n",
    "for epoch in tqdm(range(n_epochs)):\n",
    "    net.train()     # 訓練モード\n",
    "    loss_train = 0\n",
    "\n",
    "    # ミニバッチ取得(train)\n",
    "    for j, (x, t) in enumerate(train_loader):\n",
    "        x, t = x.to(device), t.to(device)\n",
    "        y = net(x)\n",
    "\n",
    "        loss = loss_func(y, t)\n",
    "        loss_train += loss.item()\n",
    "\n",
    "        optimizer.zero_grad()\n",
    "        loss.backward()\n",
    "        optimizer.step()\n",
    "\n",
    "    loss_train /= j + 1\n",
    "    record_loss_train.append(loss_train)\n",
    "\n",
    "    net.eval()  # 評価モード\n",
    "    loss_test = 0\n",
    "\n",
    "    # ミニバッチ取得(test)\n",
    "    for j, (x, t) in enumerate(test_loader):\n",
    "        x, t = x.to(device), t.to(device)\n",
    "        y = net(x)\n",
    "\n",
    "        loss = loss_func(y, t)\n",
    "        loss_test += loss.item()\n",
    "\n",
    "    loss_test /= j + 1\n",
    "    record_loss_test.append(loss_test)\n",
    "\n",
    "    if epoch % verbose == 0:\n",
    "        print(f\"Epoch: {epoch}, loss_train: {loss_train}, loss_test: {loss_test}\")"
   ]
  },
  {
   "cell_type": "markdown",
   "metadata": {},
   "source": [
    "### 誤差の推移"
   ]
  },
  {
   "cell_type": "code",
   "execution_count": 12,
   "metadata": {
    "colab": {
     "base_uri": "https://localhost:8080/",
     "height": 449
    },
    "id": "AYlWIhSXA6ms",
    "outputId": "9e7693f2-0d77-480a-82c0-b11e70ca5574"
   },
   "outputs": [
    {
     "data": {
      "image/png": "[encoded data removed]",
      "text/plain": [
       "<Figure size 640x480 with 1 Axes>"
      ]
     },
     "metadata": {},
     "output_type": "display_data"
    }
   ],
   "source": [
    "plt.plot(record_loss_train, label=\"train\")\n",
    "plt.plot(record_loss_test, label=\"test\")\n",
    "plt.xlabel(\"Epochs\")\n",
    "plt.ylabel(\"Error\")\n",
    "plt.legend()\n",
    "plt.show()"
   ]
  },
  {
   "cell_type": "markdown",
   "metadata": {},
   "source": [
    "### 正答率算出"
   ]
  },
  {
   "cell_type": "code",
   "execution_count": 13,
   "metadata": {
    "colab": {
     "base_uri": "https://localhost:8080/"
    },
    "id": "V5fGf0GcBUsX",
    "outputId": "95a6a087-4b02-4cf2-f861-9cf39667a629"
   },
   "outputs": [
    {
     "name": "stdout",
     "output_type": "stream",
     "text": [
      "Accuracy: 0.9237\n"
     ]
    }
   ],
   "source": [
    "correct = 0\n",
    "total = 0\n",
    "\n",
    "net.eval()\n",
    "\n",
    "for i, (x, t) in enumerate(test_loader):\n",
    "    x, t = x.to(device), t.to(device)\n",
    "    y = net(x)\n",
    "\n",
    "    correct += (y.argmax(1) == t).sum().item()\n",
    "    total += len(x)\n",
    "\n",
    "print(f\"Accuracy: {correct / total}\")"
   ]
  },
  {
   "cell_type": "code",
   "execution_count": null,
   "metadata": {
    "id": "IMWwBY0sB8pB"
   },
   "outputs": [],
   "source": []
  }
 ],
 "metadata": {
  "accelerator": "GPU",
  "colab": {
   "authorship_tag": "ABX9TyOycQsq6MxRUUAYp43k/0qf",
   "gpuType": "T4",
   "provenance": [],
   "toc_visible": true
  },
  "kernelspec": {
   "display_name": "Python 3 (ipykernel)",
   "language": "python",
   "name": "python3"
  },
  "language_info": {
   "codemirror_mode": {
    "name": "ipython",
    "version": 3
   },
   "file_extension": ".py",
   "mimetype": "text/x-python",
   "name": "python",
   "nbconvert_exporter": "python",
   "pygments_lexer": "ipython3",
   "version": "3.12.3"
  }
 },
 "nbformat": 4,
 "nbformat_minor": 4
}
