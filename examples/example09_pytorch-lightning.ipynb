{
 "cells": [
  {
   "cell_type": "markdown",
   "id": "8912c75f-cee6-4b4c-8003-01af814b1c65",
   "metadata": {},
   "source": [
    "# Example 09: PyTorch-Lightning"
   ]
  },
  {
   "cell_type": "markdown",
   "id": "66b6ec90-3f4d-45e7-9f8b-fdb6a9504bef",
   "metadata": {},
   "source": [
    "## 事前準備"
   ]
  },
  {
   "cell_type": "code",
   "execution_count": 1,
   "id": "daf69bae-e78c-4ee6-b5d4-b9d170535544",
   "metadata": {},
   "outputs": [
    {
     "data": {
      "text/plain": [
       "device(type='cuda')"
      ]
     },
     "execution_count": 1,
     "metadata": {},
     "output_type": "execute_result"
    }
   ],
   "source": [
    "import torch\n",
    "\n",
    "# GPUが使えるか確認してデバイスを設定\n",
    "# NOTE: `x = x.to(device) ` とすることで対象のデバイスに切り替え可能\n",
    "device = torch.device(\"cuda\" if torch.cuda.is_available() else \"cpu\")\n",
    "device"
   ]
  },
  {
   "cell_type": "code",
   "execution_count": 5,
   "id": "e27c5af6-f5c1-4343-ad8a-33b38a77d592",
   "metadata": {},
   "outputs": [],
   "source": [
    "import optuna\n",
    "import torch\n",
    "import torchinfo\n",
    "import pytorch_lightning as pl\n",
    "from torch import nn\n",
    "from torch import optim\n",
    "from torchvision import transforms\n",
    "from torchvision.datasets import CIFAR10\n",
    "from torch.utils.data import DataLoader\n",
    "from tqdm.notebook import tqdm\n",
    "\n",
    "import matplotlib.pyplot as plt"
   ]
  },
  {
   "cell_type": "code",
   "execution_count": 6,
   "id": "730bc4e0-63fd-413f-95f4-38faff272451",
   "metadata": {},
   "outputs": [],
   "source": [
    "class Net(nn.Module):\n",
    "    def __init__(self, n_classes: int,\n",
    "                       dropout_prob: float = 0.5,\n",
    "                       activation_func: nn.Module = nn.ReLU()):\n",
    "        super(Net, self).__init__()\n",
    "        self.conv1 = nn.Conv2d(3, 8, 5)         # 入力チャネル、出力チャネル、フィルタ数\n",
    "        self.active = activation_func\n",
    "        self.pool = nn.MaxPool2d(2, 2)          # 領域のサイズ、領域の間隔\n",
    "        self.conv2 = nn.Conv2d(8, 16, 5)\n",
    "        self.fc1 = nn.Linear(16 * 5 * 5, 256)\n",
    "        self.dropout = nn.Dropout(dropout_prob)          # ドロップアウト率\n",
    "        self.fc2 = nn.Linear(256, n_classes)\n",
    "\n",
    "    def forward(self, x: torch.Tensor) -> torch.Tensor:\n",
    "        x = self.active(self.conv1(x))\n",
    "        x = self.pool(x)\n",
    "        x = self.active(self.conv2(x))\n",
    "        x = self.pool(x)\n",
    "        x = x.view(-1, 16 * 5 * 5)\n",
    "        x = self.active(self.fc1(x))\n",
    "        x = self.dropout(x)\n",
    "        x = self.fc2(x)\n",
    "        return x"
   ]
  },
  {
   "cell_type": "code",
   "execution_count": 13,
   "id": "f95c0db3-7df9-4b2b-b134-c662668b62b6",
   "metadata": {},
   "outputs": [],
   "source": [
    "class DictLogger(pl.loggers.Logger):\n",
    "    \"\"\"PyTorch Lightning `dict` logger.\"\"\"\n",
    " \n",
    "    def __init__(self, version):\n",
    "        super(DictLogger, self).__init__()\n",
    "        self.metrics = []\n",
    "        self._version = version\n",
    " \n",
    "    def log_metrics(self, metric, step_num=None):\n",
    "        self.metrics.append(metric)\n",
    " \n",
    "    @property\n",
    "    def version(self):\n",
    "        return self._version"
   ]
  },
  {
   "cell_type": "code",
   "execution_count": null,
   "id": "07058f68-6454-4f41-a712-baecb8971430",
   "metadata": {},
   "outputs": [],
   "source": [
    "class LightningNet(pl.LightningModule):\n",
    " \n",
    "    def __init__(self, trial):\n",
    "        super(LightningNet, self).__init__()\n",
    "        # TODO\n",
    "        #self.trial = trial  # for optuna\n",
    "        #self.model = Net(self.trial)\n",
    " \n",
    "    def forward(self, data):\n",
    "        return self.model(data)\n",
    " \n",
    "    def training_step(self, batch, batch_nb):\n",
    "        data, target = batch\n",
    "        output = self.forward(data)\n",
    "        loss = F.nll_loss(output, target)\n",
    "        return {'loss': loss}\n",
    " \n",
    "    def validation_step(self, batch, batch_nb):\n",
    "        data, target = batch\n",
    "        output = self.forward(data)\n",
    "        pred = output.argmax(dim=1, keepdim=True)\n",
    "        correct = pred.eq(target.view_as(pred)).sum().item()\n",
    "        accuracy = correct / data.size(0)\n",
    "        return {'validation_accuracy': accuracy}\n",
    " \n",
    "    def validation_end(self, outputs):\n",
    "        accuracy = sum(x['validation_accuracy'] for x in outputs) / len(outputs)\n",
    "        # Pass the accuracy to the `DictLogger` via the `'log'` key.\n",
    "        return {'log': {'accuracy': accuracy}}\n",
    " \n",
    "    def configure_optimizers(self):\n",
    "        # Generate the optimizers.\n",
    "        return Get_Optimizer(self.trial, self.model)\n",
    " \n",
    "    @pl.data_loader\n",
    "    def train_dataloader(self):\n",
    "        return torch.utils.data.DataLoader(\n",
    "            datasets.MNIST(DIR, train=True, download=True, transform=transforms.ToTensor()), batch_size=BATCHSIZE, shuffle=True)\n",
    " \n",
    "    @pl.data_loader\n",
    "    def val_dataloader(self):\n",
    "        return torch.utils.data.DataLoader(\n",
    "            datasets.MNIST(DIR, train=False, download=True, transform=transforms.ToTensor()), batch_size=BATCHSIZE, shuffle=False)"
   ]
  }
 ],
 "metadata": {
  "kernelspec": {
   "display_name": "Python 3 (ipykernel)",
   "language": "python",
   "name": "python3"
  },
  "language_info": {
   "codemirror_mode": {
    "name": "ipython",
    "version": 3
   },
   "file_extension": ".py",
   "mimetype": "text/x-python",
   "name": "python",
   "nbconvert_exporter": "python",
   "pygments_lexer": "ipython3",
   "version": "3.12.3"
  }
 },
 "nbformat": 4,
 "nbformat_minor": 5
}
