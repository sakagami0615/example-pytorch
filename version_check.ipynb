{
 "cells": [
  {
   "cell_type": "markdown",
   "id": "50f38f8d-1e03-4ef1-b847-e2d220c75c3a",
   "metadata": {},
   "source": [
    "# バージョン確認用ノートブック"
   ]
  },
  {
   "cell_type": "markdown",
   "id": "65883bb8-89c4-4bc4-9882-72805d6cff9e",
   "metadata": {},
   "source": [
    "## 主要パッケージバージョン"
   ]
  },
  {
   "cell_type": "code",
   "execution_count": 1,
   "id": "c8343163-efd1-4c10-bf5b-07c11fadb1ce",
   "metadata": {},
   "outputs": [
    {
     "name": "stdout",
     "output_type": "stream",
     "text": [
      "torch: 2.8.0+cu129\n",
      "torchvision: 0.23.0+cu129\n",
      "torchaudio: 2.8.0+cu129\n",
      "torchinfo: 1.8.0\n",
      "numpy: 2.1.2\n",
      "pandas: 2.3.1\n"
     ]
    }
   ],
   "source": [
    "import torch, torchvision, torchaudio\n",
    "import torchinfo\n",
    "import numpy\n",
    "import pandas\n",
    "\n",
    "packages = [\n",
    "    torch, torchvision, torchaudio,\n",
    "    torchinfo,\n",
    "    numpy,\n",
    "    pandas\n",
    "]\n",
    "\n",
    "for p in packages:\n",
    "    print(f\"{p.__name__}: {p.__version__}\")"
   ]
  },
  {
   "cell_type": "markdown",
   "id": "8c07562b-70a9-4897-86af-86e971427cd3",
   "metadata": {},
   "source": [
    "## CUDA使用可能チェック"
   ]
  },
  {
   "cell_type": "code",
   "execution_count": 2,
   "id": "89c2c1d9-7fef-4e60-99ac-8aa274500bdd",
   "metadata": {},
   "outputs": [
    {
     "data": {
      "text/plain": [
       "True"
      ]
     },
     "execution_count": 2,
     "metadata": {},
     "output_type": "execute_result"
    }
   ],
   "source": [
    "torch.cuda.is_available()"
   ]
  },
  {
   "cell_type": "markdown",
   "id": "80634d3b-2caf-459e-ac6a-9da698033e73",
   "metadata": {},
   "source": [
    "## Appendix: 全パッケージバージョン"
   ]
  },
  {
   "cell_type": "code",
   "execution_count": 3,
   "id": "6f1c08ea-8d3e-4cf4-8f9a-e7f47646b4b7",
   "metadata": {},
   "outputs": [
    {
     "name": "stdout",
     "output_type": "stream",
     "text": [
      "Package                   Version\n",
      "------------------------- --------------\n",
      "anyio                     4.10.0\n",
      "argon2-cffi               25.1.0\n",
      "argon2-cffi-bindings      25.1.0\n",
      "arrow                     1.3.0\n",
      "asttokens                 3.0.0\n",
      "async-lru                 2.0.5\n",
      "attrs                     25.3.0\n",
      "babel                     2.17.0\n",
      "beautifulsoup4            4.13.4\n",
      "bleach                    6.2.0\n",
      "certifi                   2025.8.3\n",
      "cffi                      1.17.1\n",
      "charset-normalizer        3.4.3\n",
      "comm                      0.2.3\n",
      "contourpy                 1.3.3\n",
      "cycler                    0.12.1\n",
      "debugpy                   1.8.16\n",
      "decorator                 5.2.1\n",
      "defusedxml                0.7.1\n",
      "executing                 2.2.0\n",
      "fastjsonschema            2.21.2\n",
      "filelock                  3.13.1\n",
      "fonttools                 4.59.1\n",
      "fqdn                      1.5.1\n",
      "fsspec                    2024.6.1\n",
      "h11                       0.16.0\n",
      "httpcore                  1.0.9\n",
      "httpx                     0.28.1\n",
      "idna                      3.10\n",
      "ipykernel                 6.30.1\n",
      "ipython                   9.4.0\n",
      "ipython_pygments_lexers   1.1.1\n",
      "ipywidgets                8.1.7\n",
      "isoduration               20.11.0\n",
      "jedi                      0.19.2\n",
      "Jinja2                    3.1.4\n",
      "json5                     0.12.1\n",
      "jsonpointer               3.0.0\n",
      "jsonschema                4.25.1\n",
      "jsonschema-specifications 2025.4.1\n",
      "jupyter_client            8.6.3\n",
      "jupyter_core              5.8.1\n",
      "jupyter-events            0.12.0\n",
      "jupyter-lsp               2.2.6\n",
      "jupyter_server            2.16.0\n",
      "jupyter_server_terminals  0.5.3\n",
      "jupyterlab                4.4.6\n",
      "jupyterlab_pygments       0.3.0\n",
      "jupyterlab_server         2.27.3\n",
      "jupyterlab_widgets        3.0.15\n",
      "kiwisolver                1.4.9\n",
      "lark                      1.2.2\n",
      "MarkupSafe                2.1.5\n",
      "matplotlib                3.10.5\n",
      "matplotlib-inline         0.1.7\n",
      "mistune                   3.1.3\n",
      "mpmath                    1.3.0\n",
      "nbclient                  0.10.2\n",
      "nbconvert                 7.16.6\n",
      "nbformat                  5.10.4\n",
      "nest-asyncio              1.6.0\n",
      "networkx                  3.3\n",
      "notebook_shim             0.2.4\n",
      "numpy                     2.1.2\n",
      "nvidia-cublas-cu12        12.9.1.4\n",
      "nvidia-cuda-cupti-cu12    12.9.79\n",
      "nvidia-cuda-nvrtc-cu12    12.9.86\n",
      "nvidia-cuda-runtime-cu12  12.9.79\n",
      "nvidia-cudnn-cu12         9.10.2.21\n",
      "nvidia-cufft-cu12         11.4.1.4\n",
      "nvidia-cufile-cu12        1.14.1.1\n",
      "nvidia-curand-cu12        10.3.10.19\n",
      "nvidia-cusolver-cu12      11.7.5.82\n",
      "nvidia-cusparse-cu12      12.5.10.65\n",
      "nvidia-cusparselt-cu12    0.7.1\n",
      "nvidia-nccl-cu12          2.27.3\n",
      "nvidia-nvjitlink-cu12     12.9.86\n",
      "nvidia-nvtx-cu12          12.9.79\n",
      "overrides                 7.7.0\n",
      "packaging                 25.0\n",
      "pandas                    2.3.1\n",
      "pandocfilters             1.5.1\n",
      "parso                     0.8.4\n",
      "pexpect                   4.9.0\n",
      "pillow                    11.0.0\n",
      "pip                       25.2\n",
      "platformdirs              4.3.8\n",
      "prometheus_client         0.22.1\n",
      "prompt_toolkit            3.0.51\n",
      "psutil                    7.0.0\n",
      "ptyprocess                0.7.0\n",
      "pure_eval                 0.2.3\n",
      "pycparser                 2.22\n",
      "Pygments                  2.19.2\n",
      "pyparsing                 3.2.3\n",
      "python-dateutil           2.9.0.post0\n",
      "python-json-logger        3.3.0\n",
      "pytz                      2025.2\n",
      "PyYAML                    6.0.2\n",
      "pyzmq                     27.0.1\n",
      "referencing               0.36.2\n",
      "requests                  2.32.5\n",
      "rfc3339-validator         0.1.4\n",
      "rfc3986-validator         0.1.1\n",
      "rfc3987-syntax            1.1.0\n",
      "rpds-py                   0.27.0\n",
      "seaborn                   0.13.2\n",
      "Send2Trash                1.8.3\n",
      "setuptools                70.2.0\n",
      "six                       1.17.0\n",
      "sniffio                   1.3.1\n",
      "soupsieve                 2.7\n",
      "stack-data                0.6.3\n",
      "sympy                     1.13.3\n",
      "terminado                 0.18.1\n",
      "tinycss2                  1.4.0\n",
      "torch                     2.8.0+cu129\n",
      "torchaudio                2.8.0+cu129\n",
      "torchinfo                 1.8.0\n",
      "torchvision               0.23.0+cu129\n",
      "tornado                   6.5.2\n",
      "tqdm                      4.67.1\n",
      "traitlets                 5.14.3\n",
      "triton                    3.4.0\n",
      "types-python-dateutil     2.9.0.20250809\n",
      "typing_extensions         4.12.2\n",
      "tzdata                    2025.2\n",
      "uri-template              1.3.0\n",
      "urllib3                   2.5.0\n",
      "wcwidth                   0.2.13\n",
      "webcolors                 24.11.1\n",
      "webencodings              0.5.1\n",
      "websocket-client          1.8.0\n",
      "widgetsnbextension        4.0.14\n"
     ]
    }
   ],
   "source": [
    "!pip list"
   ]
  },
  {
   "cell_type": "code",
   "execution_count": null,
   "id": "775b5fd4-8d91-4f89-a67f-b193aa6f66b3",
   "metadata": {},
   "outputs": [],
   "source": []
  }
 ],
 "metadata": {
  "kernelspec": {
   "display_name": "Python 3 (ipykernel)",
   "language": "python",
   "name": "python3"
  },
  "language_info": {
   "codemirror_mode": {
    "name": "ipython",
    "version": 3
   },
   "file_extension": ".py",
   "mimetype": "text/x-python",
   "name": "python",
   "nbconvert_exporter": "python",
   "pygments_lexer": "ipython3",
   "version": "3.12.3"
  }
 },
 "nbformat": 4,
 "nbformat_minor": 5
}
