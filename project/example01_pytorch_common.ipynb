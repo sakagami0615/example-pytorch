{
 "cells": [
  {
   "cell_type": "markdown",
   "metadata": {
    "id": "CMBeIte3Ks7R"
   },
   "source": [
    "# Example 01: PyTorch Common"
   ]
  },
  {
   "cell_type": "markdown",
   "metadata": {
    "id": "q8OQOVOH75dA"
   },
   "source": [
    "## Tensor"
   ]
  },
  {
   "cell_type": "code",
   "execution_count": 1,
   "metadata": {},
   "outputs": [],
   "source": [
    "import torch\n",
    "from tqdm.notebook import tqdm"
   ]
  },
  {
   "cell_type": "markdown",
   "metadata": {
    "id": "PCAsLOy1p-y_"
   },
   "source": [
    "### Tensor生成"
   ]
  },
  {
   "cell_type": "markdown",
   "metadata": {},
   "source": [
    "#### 1次元リストから生成"
   ]
  },
  {
   "cell_type": "code",
   "execution_count": 2,
   "metadata": {
    "colab": {
     "base_uri": "https://localhost:8080/",
     "height": 35
    },
    "id": "mObY1wQRn7tv",
    "outputId": "d3dcbd1f-af06-4af3-b39f-1a0bf1d326dd"
   },
   "outputs": [
    {
     "data": {
      "text/plain": [
       "\"value: tensor([1, 2, 3]), type: <class 'torch.Tensor'>\""
      ]
     },
     "execution_count": 2,
     "metadata": {},
     "output_type": "execute_result"
    }
   ],
   "source": [
    "a = torch.tensor([1, 2, 3])\n",
    "\n",
    "f\"value: {a}, type: {type(a)}\""
   ]
  },
  {
   "cell_type": "markdown",
   "metadata": {},
   "source": [
    "#### 2次元リストから生成"
   ]
  },
  {
   "cell_type": "code",
   "execution_count": 3,
   "metadata": {
    "colab": {
     "base_uri": "https://localhost:8080/",
     "height": 35
    },
    "id": "a8uknU9koxnO",
    "outputId": "be721842-e4d8-494f-89be-2051ba543e8c"
   },
   "outputs": [
    {
     "data": {
      "text/plain": [
       "\"value: tensor([[1, 2],\\n        [3, 4]]), type: <class 'torch.Tensor'>\""
      ]
     },
     "execution_count": 3,
     "metadata": {},
     "output_type": "execute_result"
    }
   ],
   "source": [
    "b = torch.tensor([[1, 2], [3, 4]])\n",
    "\n",
    "f\"value: {b}, type: {type(b)}\""
   ]
  },
  {
   "cell_type": "markdown",
   "metadata": {},
   "source": [
    "#### dtypeを指定し、倍精度のTensorにする"
   ]
  },
  {
   "cell_type": "code",
   "execution_count": 4,
   "metadata": {
    "colab": {
     "base_uri": "https://localhost:8080/",
     "height": 35
    },
    "id": "snYIA2pppBtf",
    "outputId": "6a2267c2-6eb7-4c5b-a85c-4769b5db1c3f"
   },
   "outputs": [
    {
     "data": {
      "text/plain": [
       "\"value: tensor([[1., 2.],\\n        [3., 4.]], dtype=torch.float64), type: <class 'torch.Tensor'>\""
      ]
     },
     "execution_count": 4,
     "metadata": {},
     "output_type": "execute_result"
    }
   ],
   "source": [
    "c = torch.tensor([[1, 2], [3, 4]], dtype=torch.float64)\n",
    "\n",
    "f\"value: {c}, type: {type(c)}\""
   ]
  },
  {
   "cell_type": "markdown",
   "metadata": {},
   "source": [
    "#### 0~9までの整数で初期化"
   ]
  },
  {
   "cell_type": "code",
   "execution_count": 5,
   "metadata": {
    "colab": {
     "base_uri": "https://localhost:8080/",
     "height": 35
    },
    "id": "-dGOOTo1pZ0j",
    "outputId": "9814df91-f831-4bed-91cb-5ced4f74ca7c"
   },
   "outputs": [
    {
     "data": {
      "text/plain": [
       "\"value: tensor([0, 1, 2, 3, 4, 5, 6, 7, 8, 9]), type: <class 'torch.Tensor'>\""
      ]
     },
     "execution_count": 5,
     "metadata": {},
     "output_type": "execute_result"
    }
   ],
   "source": [
    "d = torch.arange(0, 10)\n",
    "\n",
    "f\"value: {d}, type: {type(d)}\""
   ]
  },
  {
   "cell_type": "markdown",
   "metadata": {},
   "source": [
    "#### 全てがゼロの2x3のTensor"
   ]
  },
  {
   "cell_type": "code",
   "execution_count": 6,
   "metadata": {
    "colab": {
     "base_uri": "https://localhost:8080/",
     "height": 35
    },
    "id": "2zhU2PQppidA",
    "outputId": "bf62a797-169c-40f2-a410-4269c09b5a2c"
   },
   "outputs": [
    {
     "data": {
      "text/plain": [
       "\"value: tensor([[0., 0., 0.],\\n        [0., 0., 0.]]), type: <class 'torch.Tensor'>\""
      ]
     },
     "execution_count": 6,
     "metadata": {},
     "output_type": "execute_result"
    }
   ],
   "source": [
    "e = torch.zeros(2, 3)\n",
    "\n",
    "f\"value: {e}, type: {type(e)}\""
   ]
  },
  {
   "cell_type": "markdown",
   "metadata": {},
   "source": [
    "#### 全ての値が乱数の2x3のTensor"
   ]
  },
  {
   "cell_type": "markdown",
   "metadata": {},
   "source": [
    "#### 全ての値が乱数の2x3のTensor"
   ]
  },
  {
   "cell_type": "code",
   "execution_count": 7,
   "metadata": {
    "colab": {
     "base_uri": "https://localhost:8080/",
     "height": 35
    },
    "id": "voOR3PuZpp6v",
    "outputId": "fa0eed0f-0cfc-423d-dcda-d932cc4a3ee0"
   },
   "outputs": [
    {
     "data": {
      "text/plain": [
       "\"value: tensor([[0.5563, 0.6090, 0.4794],\\n        [0.8562, 0.0079, 0.0872]]), type: <class 'torch.Tensor'>\""
      ]
     },
     "execution_count": 7,
     "metadata": {},
     "output_type": "execute_result"
    }
   ],
   "source": [
    "f = torch.rand(2, 3)\n",
    "\n",
    "f\"value: {f}, type: {type(f)}\""
   ]
  },
  {
   "cell_type": "markdown",
   "metadata": {},
   "source": [
    "#### Tensorの形状(サイズ)を取得"
   ]
  },
  {
   "cell_type": "code",
   "execution_count": 8,
   "metadata": {
    "colab": {
     "base_uri": "https://localhost:8080/"
    },
    "id": "G5wCltyZpvfV",
    "outputId": "66918d6c-0bf2-4a27-e475-5a725b5ed6d5"
   },
   "outputs": [
    {
     "data": {
      "text/plain": [
       "torch.Size([2, 3])"
      ]
     },
     "execution_count": 8,
     "metadata": {},
     "output_type": "execute_result"
    }
   ],
   "source": [
    "f.size()"
   ]
  },
  {
   "cell_type": "markdown",
   "metadata": {},
   "source": [
    "#### -5 ~ 5 までの連続値を10個生成"
   ]
  },
  {
   "cell_type": "code",
   "execution_count": 9,
   "metadata": {
    "colab": {
     "base_uri": "https://localhost:8080/"
    },
    "id": "0NoGfkjdp0eQ",
    "outputId": "a4617ba3-d464-4840-87a0-f475a9632b49"
   },
   "outputs": [
    {
     "data": {
      "text/plain": [
       "tensor([-5.0000, -3.8889, -2.7778, -1.6667, -0.5556,  0.5556,  1.6667,  2.7778,\n",
       "         3.8889,  5.0000])"
      ]
     },
     "execution_count": 9,
     "metadata": {},
     "output_type": "execute_result"
    }
   ],
   "source": [
    "g = torch.linspace(-5, 5, 10)\n",
    "g"
   ]
  },
  {
   "cell_type": "markdown",
   "metadata": {},
   "source": [
    "#### Tensor -> Numpy"
   ]
  },
  {
   "cell_type": "code",
   "execution_count": 10,
   "metadata": {
    "colab": {
     "base_uri": "https://localhost:8080/",
     "height": 35
    },
    "id": "suRSpBP45I3s",
    "outputId": "3d709bc1-affc-4787-d122-3fcd43b8cd9e"
   },
   "outputs": [
    {
     "data": {
      "text/plain": [
       "\"value: [[1 2]\\n [3 4]], type: <class 'numpy.ndarray'>\""
      ]
     },
     "execution_count": 10,
     "metadata": {},
     "output_type": "execute_result"
    }
   ],
   "source": [
    "a = torch.tensor([[1, 2], [3, 4]])\n",
    "b = a.numpy()\n",
    "\n",
    "f\"value: {b}, type: {type(b)}\""
   ]
  },
  {
   "cell_type": "markdown",
   "metadata": {},
   "source": [
    "#### Numpy -> Tensor"
   ]
  },
  {
   "cell_type": "code",
   "execution_count": 11,
   "metadata": {
    "colab": {
     "base_uri": "https://localhost:8080/",
     "height": 35
    },
    "id": "JOqHYmYk7PoA",
    "outputId": "b5067282-f388-4d12-ea04-46a05cdab37d"
   },
   "outputs": [
    {
     "data": {
      "text/plain": [
       "\"value: tensor([[1, 2],\\n        [3, 4]]), type: <class 'torch.Tensor'>\""
      ]
     },
     "execution_count": 11,
     "metadata": {},
     "output_type": "execute_result"
    }
   ],
   "source": [
    "c = torch.from_numpy(b)\n",
    "\n",
    "f\"value: {c}, type: {type(c)}\""
   ]
  },
  {
   "cell_type": "markdown",
   "metadata": {
    "id": "kCMJY1Eh7-HM"
   },
   "source": [
    "### Tensorアクセス"
   ]
  },
  {
   "cell_type": "code",
   "execution_count": 12,
   "metadata": {
    "id": "kyNY3AFF7hMz"
   },
   "outputs": [],
   "source": [
    "a = torch.tensor([[1, 2, 3], [4, 5, 6]])"
   ]
  },
  {
   "cell_type": "markdown",
   "metadata": {},
   "source": [
    "#### 2つのインデックスを指定"
   ]
  },
  {
   "cell_type": "code",
   "execution_count": 13,
   "metadata": {
    "colab": {
     "base_uri": "https://localhost:8080/"
    },
    "id": "ez9PTgYo8nGf",
    "outputId": "3a138404-08e6-48f0-b980-2a64b3cf03bd"
   },
   "outputs": [
    {
     "data": {
      "text/plain": [
       "tensor(2)"
      ]
     },
     "execution_count": 13,
     "metadata": {},
     "output_type": "execute_result"
    }
   ],
   "source": [
    "a[0, 1]"
   ]
  },
  {
   "cell_type": "markdown",
   "metadata": {},
   "source": [
    "#### 範囲を指定"
   ]
  },
  {
   "cell_type": "code",
   "execution_count": 14,
   "metadata": {
    "colab": {
     "base_uri": "https://localhost:8080/"
    },
    "id": "SH3tvgL-8z4l",
    "outputId": "92e8e773-3f35-4afd-e82d-d2909847d31f"
   },
   "outputs": [
    {
     "data": {
      "text/plain": [
       "tensor([[4, 5]])"
      ]
     },
     "execution_count": 14,
     "metadata": {},
     "output_type": "execute_result"
    }
   ],
   "source": [
    "a[1:2, :2]"
   ]
  },
  {
   "cell_type": "markdown",
   "metadata": {},
   "source": [
    "#### リストで複数のインデックスを指定"
   ]
  },
  {
   "cell_type": "code",
   "execution_count": 15,
   "metadata": {
    "colab": {
     "base_uri": "https://localhost:8080/"
    },
    "id": "6vP8EabB8z1u",
    "outputId": "f3110048-58b8-4a70-950e-7774efaf0ec4"
   },
   "outputs": [
    {
     "data": {
      "text/plain": [
       "tensor([[1, 3],\n",
       "        [4, 6]])"
      ]
     },
     "execution_count": 15,
     "metadata": {},
     "output_type": "execute_result"
    }
   ],
   "source": [
    "a[:, [0, 2]]"
   ]
  },
  {
   "cell_type": "markdown",
   "metadata": {},
   "source": [
    "#### 3より大きい要素のみ指定"
   ]
  },
  {
   "cell_type": "code",
   "execution_count": 16,
   "metadata": {
    "colab": {
     "base_uri": "https://localhost:8080/"
    },
    "id": "oyutZv9t8zyG",
    "outputId": "e9baa44f-8af4-4ea6-a279-6ad8012ee9bc"
   },
   "outputs": [
    {
     "data": {
      "text/plain": [
       "tensor([4, 5, 6])"
      ]
     },
     "execution_count": 16,
     "metadata": {},
     "output_type": "execute_result"
    }
   ],
   "source": [
    "a[a > 3]"
   ]
  },
  {
   "cell_type": "markdown",
   "metadata": {},
   "source": [
    "###"
   ]
  },
  {
   "cell_type": "code",
   "execution_count": 17,
   "metadata": {
    "colab": {
     "base_uri": "https://localhost:8080/"
    },
    "id": "ZBbsj8Mt8zrG",
    "outputId": "c64f3e09-1d8d-4c36-e2e2-33ac2c64d90d"
   },
   "outputs": [
    {
     "data": {
      "text/plain": [
       "tensor([[ 1,  2, 11],\n",
       "        [ 4,  5,  6]])"
      ]
     },
     "execution_count": 17,
     "metadata": {},
     "output_type": "execute_result"
    }
   ],
   "source": [
    "# @title 要素の変更\n",
    "a[0, 2] = 11\n",
    "a"
   ]
  },
  {
   "cell_type": "markdown",
   "metadata": {},
   "source": [
    "#### 要素の一括変更"
   ]
  },
  {
   "cell_type": "code",
   "execution_count": 18,
   "metadata": {
    "colab": {
     "base_uri": "https://localhost:8080/"
    },
    "id": "EJwoZb3Y9gSf",
    "outputId": "de773372-ac75-4107-c7a6-e7e2c9c4b74d"
   },
   "outputs": [
    {
     "data": {
      "text/plain": [
       "tensor([[ 1, 22, 11],\n",
       "        [ 4, 22,  6]])"
      ]
     },
     "execution_count": 18,
     "metadata": {},
     "output_type": "execute_result"
    }
   ],
   "source": [
    "a[:, 1] = 22\n",
    "a"
   ]
  },
  {
   "cell_type": "markdown",
   "metadata": {},
   "source": [
    "#### 10より大きい要素のみ変更"
   ]
  },
  {
   "cell_type": "code",
   "execution_count": 19,
   "metadata": {
    "colab": {
     "base_uri": "https://localhost:8080/"
    },
    "id": "UGA0tSqu9ltM",
    "outputId": "851d740e-efee-4d34-f872-9a9767aee87f"
   },
   "outputs": [
    {
     "data": {
      "text/plain": [
       "tensor([[ 1, 33, 33],\n",
       "        [ 4, 33,  6]])"
      ]
     },
     "execution_count": 19,
     "metadata": {},
     "output_type": "execute_result"
    }
   ],
   "source": [
    "a[a > 10] = 33\n",
    "a"
   ]
  },
  {
   "cell_type": "markdown",
   "metadata": {
    "id": "i-qJqy8DC7G8"
   },
   "source": [
    "### Tensor演算"
   ]
  },
  {
   "cell_type": "code",
   "execution_count": 20,
   "metadata": {
    "colab": {
     "base_uri": "https://localhost:8080/"
    },
    "id": "bbvWFXcL9tdC",
    "outputId": "971e8515-ff83-41c0-ffb4-784163ae77fd"
   },
   "outputs": [
    {
     "data": {
      "text/plain": [
       "(tensor([1, 2, 3]),\n",
       " tensor([4, 5, 6]),\n",
       " tensor([[6, 5, 4],\n",
       "         [3, 2, 1]]))"
      ]
     },
     "execution_count": 20,
     "metadata": {},
     "output_type": "execute_result"
    }
   ],
   "source": [
    "a = torch.tensor([1, 2, 3])\n",
    "b = torch.tensor([4, 5, 6])\n",
    "\n",
    "c = torch.tensor([[6, 5, 4], [3, 2, 1]])\n",
    "a, b, c"
   ]
  },
  {
   "cell_type": "markdown",
   "metadata": {},
   "source": [
    "#### ベクトルとスカラーの演算"
   ]
  },
  {
   "cell_type": "code",
   "execution_count": 21,
   "metadata": {
    "colab": {
     "base_uri": "https://localhost:8080/"
    },
    "id": "iHuIS2NYDhJk",
    "outputId": "79170950-bc21-45d0-8b9c-d2a452537986"
   },
   "outputs": [
    {
     "data": {
      "text/plain": [
       "tensor([4, 5, 6])"
      ]
     },
     "execution_count": 21,
     "metadata": {},
     "output_type": "execute_result"
    }
   ],
   "source": [
    "a + 3"
   ]
  },
  {
   "cell_type": "markdown",
   "metadata": {},
   "source": [
    "#### ベクトル同士の演算"
   ]
  },
  {
   "cell_type": "code",
   "execution_count": 22,
   "metadata": {
    "colab": {
     "base_uri": "https://localhost:8080/"
    },
    "id": "Gv5LnDKPDkrZ",
    "outputId": "3feabe58-e269-4578-9a63-bb5fadc9569b"
   },
   "outputs": [
    {
     "data": {
      "text/plain": [
       "tensor([5, 7, 9])"
      ]
     },
     "execution_count": 22,
     "metadata": {},
     "output_type": "execute_result"
    }
   ],
   "source": [
    "a + b"
   ]
  },
  {
   "cell_type": "markdown",
   "metadata": {},
   "source": [
    "#### 行列とスカラーの演算"
   ]
  },
  {
   "cell_type": "code",
   "execution_count": 23,
   "metadata": {
    "colab": {
     "base_uri": "https://localhost:8080/"
    },
    "id": "FXGUTzgAD0yW",
    "outputId": "119f1a17-dc9d-41f3-960b-a040a66312e8"
   },
   "outputs": [
    {
     "data": {
      "text/plain": [
       "tensor([[9, 8, 7],\n",
       "        [6, 5, 4]])"
      ]
     },
     "execution_count": 23,
     "metadata": {},
     "output_type": "execute_result"
    }
   ],
   "source": [
    "c + 3"
   ]
  },
  {
   "cell_type": "markdown",
   "metadata": {},
   "source": [
    "####  行列とベクトルの演算\n",
    "\n",
    "行列Cの各行に行ベクトルAが加算されている（ブロードキャスト）"
   ]
  },
  {
   "cell_type": "code",
   "execution_count": 24,
   "metadata": {
    "colab": {
     "base_uri": "https://localhost:8080/"
    },
    "id": "7zySQv32Dtl8",
    "outputId": "ca0d9da7-cea0-4892-f241-cc30bb887e31"
   },
   "outputs": [
    {
     "data": {
      "text/plain": [
       "tensor([[7, 7, 7],\n",
       "        [4, 4, 4]])"
      ]
     },
     "execution_count": 24,
     "metadata": {},
     "output_type": "execute_result"
    }
   ],
   "source": [
    "c + a"
   ]
  },
  {
   "cell_type": "markdown",
   "metadata": {},
   "source": [
    "#### 行列同士の演算"
   ]
  },
  {
   "cell_type": "code",
   "execution_count": 25,
   "metadata": {
    "colab": {
     "base_uri": "https://localhost:8080/"
    },
    "id": "iivTPabrEFYJ",
    "outputId": "cf98d0fd-c60b-44f9-a2b0-902e99f3778d"
   },
   "outputs": [
    {
     "data": {
      "text/plain": [
       "tensor([[12, 10,  8],\n",
       "        [ 6,  4,  2]])"
      ]
     },
     "execution_count": 25,
     "metadata": {},
     "output_type": "execute_result"
    }
   ],
   "source": [
    "c + c"
   ]
  },
  {
   "cell_type": "markdown",
   "metadata": {
    "id": "zNsGyQq7EobT"
   },
   "source": [
    "### 形状変換"
   ]
  },
  {
   "cell_type": "markdown",
   "metadata": {},
   "source": [
    "#### 2次元変換"
   ]
  },
  {
   "cell_type": "code",
   "execution_count": 26,
   "metadata": {
    "colab": {
     "base_uri": "https://localhost:8080/"
    },
    "id": "t2U3cuu4EVIf",
    "outputId": "815ab140-f97b-45bc-e025-0d6f6ce8ac2d"
   },
   "outputs": [
    {
     "data": {
      "text/plain": [
       "tensor([[0, 1, 2, 3],\n",
       "        [4, 5, 6, 7]])"
      ]
     },
     "execution_count": 26,
     "metadata": {},
     "output_type": "execute_result"
    }
   ],
   "source": [
    "a = torch.tensor([0, 1, 2, 3, 4, 5, 6, 7])\n",
    "b = a.view(2, 4)\n",
    "b"
   ]
  },
  {
   "cell_type": "code",
   "execution_count": 27,
   "metadata": {
    "colab": {
     "base_uri": "https://localhost:8080/"
    },
    "id": "BgMboa1hEyfJ",
    "outputId": "80607e3c-48c5-4fa7-c296-5ea50bc61b54"
   },
   "outputs": [
    {
     "data": {
      "text/plain": [
       "tensor([[0, 1, 2, 3],\n",
       "        [4, 5, 6, 7]])"
      ]
     },
     "execution_count": 27,
     "metadata": {},
     "output_type": "execute_result"
    }
   ],
   "source": [
    "# 片方は-1にすると自動計算可能\n",
    "b = a.view(2, -1)\n",
    "b"
   ]
  },
  {
   "cell_type": "markdown",
   "metadata": {},
   "source": [
    "#### 1次元変換"
   ]
  },
  {
   "cell_type": "code",
   "execution_count": 28,
   "metadata": {
    "colab": {
     "base_uri": "https://localhost:8080/"
    },
    "id": "AXaKjo4mFAeD",
    "outputId": "432a739a-8704-4602-80dd-568b5f6d2727"
   },
   "outputs": [
    {
     "data": {
      "text/plain": [
       "tensor([0, 1, 2, 3, 4, 5, 6, 7])"
      ]
     },
     "execution_count": 28,
     "metadata": {},
     "output_type": "execute_result"
    }
   ],
   "source": [
    "c = torch.tensor([[[0, 1], [2, 3]], [[4, 5], [6, 7]]])\n",
    "\n",
    "f = c.view(-1)\n",
    "f"
   ]
  },
  {
   "cell_type": "markdown",
   "metadata": {},
   "source": [
    "#### 要素数1の次元を削除"
   ]
  },
  {
   "cell_type": "code",
   "execution_count": 29,
   "metadata": {
    "colab": {
     "base_uri": "https://localhost:8080/"
    },
    "id": "WLukPbceFUjq",
    "outputId": "0fc8b897-e9fe-498f-d417-64aacd402cb2"
   },
   "outputs": [
    {
     "name": "stdout",
     "output_type": "stream",
     "text": [
      "(tensor([[[[0, 1, 2, 3]],\n",
      "\n",
      "         [[4, 5, 6, 7]]]]), torch.Size([1, 2, 1, 4]))\n"
     ]
    },
    {
     "data": {
      "text/plain": [
       "(tensor([[0, 1, 2, 3],\n",
       "         [4, 5, 6, 7]]),\n",
       " torch.Size([2, 4]))"
      ]
     },
     "execution_count": 29,
     "metadata": {},
     "output_type": "execute_result"
    }
   ],
   "source": [
    "# 4次元ベクトル作成\n",
    "g = torch.arange(0, 8).view(1, 2, 1, 4)\n",
    "print((g, g.size()))\n",
    "\n",
    "# 次元削除\n",
    "h = g.squeeze()\n",
    "h, h.size()"
   ]
  },
  {
   "cell_type": "markdown",
   "metadata": {},
   "source": [
    "#### 要素数1の次元を追加"
   ]
  },
  {
   "cell_type": "code",
   "execution_count": 30,
   "metadata": {
    "colab": {
     "base_uri": "https://localhost:8080/"
    },
    "id": "f3frILifJ_yE",
    "outputId": "bc3f59df-1ea9-4391-8067-4cc4a8ec2d86"
   },
   "outputs": [
    {
     "name": "stdout",
     "output_type": "stream",
     "text": [
      "(tensor([[0, 1, 2, 3],\n",
      "        [4, 5, 6, 7]]), torch.Size([2, 4]))\n"
     ]
    },
    {
     "data": {
      "text/plain": [
       "(tensor([[[0],\n",
       "          [1],\n",
       "          [2],\n",
       "          [3]],\n",
       " \n",
       "         [[4],\n",
       "          [5],\n",
       "          [6],\n",
       "          [7]]]),\n",
       " torch.Size([2, 4, 1]))"
      ]
     },
     "execution_count": 30,
     "metadata": {},
     "output_type": "execute_result"
    }
   ],
   "source": [
    "i = torch.arange(0, 8).view(2, -1)\n",
    "print((i, i.size()))\n",
    "\n",
    "# 一番内側（2）に追加\n",
    "j = i.unsqueeze(2)\n",
    "j, j.size()"
   ]
  },
  {
   "cell_type": "markdown",
   "metadata": {
    "id": "yKNfBiriLpK5"
   },
   "source": [
    "### 統計値の計算"
   ]
  },
  {
   "cell_type": "code",
   "execution_count": 31,
   "metadata": {
    "colab": {
     "base_uri": "https://localhost:8080/"
    },
    "id": "bImXDiX1LIVp",
    "outputId": "c0ffe3b4-2015-41d1-c054-f8b47fb81113"
   },
   "outputs": [
    {
     "name": "stdout",
     "output_type": "stream",
     "text": [
      "m: 3.5\n",
      "m: 3.5\n"
     ]
    }
   ],
   "source": [
    "a = torch.tensor([[1, 2, 3], [4, 5, 6]], dtype=torch.float32)\n",
    "\n",
    "m = torch.mean(a)\n",
    "print(f\"m: {m.item()}\")\n",
    "\n",
    "# 上のコードと同様の値となる\n",
    "m = a.mean()\n",
    "print(f\"m: {m.item()}\")"
   ]
  },
  {
   "cell_type": "code",
   "execution_count": 32,
   "metadata": {},
   "outputs": [
    {
     "name": "stdout",
     "output_type": "stream",
     "text": [
      "m: tensor([2.5000, 3.5000, 4.5000])\n",
      "sum: 21.0\n",
      "max: 6.0\n",
      "min: 1.0\n"
     ]
    }
   ],
   "source": [
    "# 列ごとの統計値(平均、合計、最大、最小)\n",
    "print(f\"m: {a.mean(0)}\")\n",
    "\n",
    "print(f\"sum: {torch.sum(a).item()}\")\n",
    "\n",
    "print(f\"max: {torch.max(a).item()}\")\n",
    "\n",
    "print(f\"min: {torch.min(a).item()}\")"
   ]
  },
  {
   "cell_type": "markdown",
   "metadata": {
    "id": "tKLujwbLMweb"
   },
   "source": [
    "## 活性化関数"
   ]
  },
  {
   "cell_type": "code",
   "execution_count": 33,
   "metadata": {
    "id": "9aAACO1AL23X"
   },
   "outputs": [],
   "source": [
    "import torch\n",
    "from torch import nn\n",
    "\n",
    "import matplotlib.pyplot as plt"
   ]
  },
  {
   "cell_type": "markdown",
   "metadata": {},
   "source": [
    "### シグモイド関数"
   ]
  },
  {
   "cell_type": "code",
   "execution_count": 34,
   "metadata": {
    "colab": {
     "base_uri": "https://localhost:8080/",
     "height": 430
    },
    "id": "sYYySlgYNHz0",
    "outputId": "2b2322a2-f9fb-4ed9-a5d8-556a5ef108c6"
   },
   "outputs": [
    {
     "data": {
      "image/png": "[encoded data removed]",
      "text/plain": [
       "<Figure size 640x480 with 1 Axes>"
      ]
     },
     "metadata": {},
     "output_type": "display_data"
    }
   ],
   "source": [
    "m = nn.Sigmoid()\n",
    "\n",
    "x = torch.linspace(-5, 5, 30)\n",
    "y = m(x)\n",
    "plt.plot(x, y)\n",
    "plt.show()"
   ]
  },
  {
   "cell_type": "markdown",
   "metadata": {},
   "source": [
    "### tanh関数"
   ]
  },
  {
   "cell_type": "code",
   "execution_count": 35,
   "metadata": {
    "colab": {
     "base_uri": "https://localhost:8080/",
     "height": 430
    },
    "id": "4_NEbXtONSDz",
    "outputId": "261a8c03-5313-4c1b-d4e1-3e35e3b5c468"
   },
   "outputs": [
    {
     "data": {
      "image/png": "[encoded data removed]",
      "text/plain": [
       "<Figure size 640x480 with 1 Axes>"
      ]
     },
     "metadata": {},
     "output_type": "display_data"
    }
   ],
   "source": [
    "m = nn.Tanh()\n",
    "\n",
    "x = torch.linspace(-5, 5, 30)\n",
    "y = m(x)\n",
    "plt.plot(x, y)\n",
    "plt.show()"
   ]
  },
  {
   "cell_type": "markdown",
   "metadata": {},
   "source": [
    "### ReLU関数"
   ]
  },
  {
   "cell_type": "code",
   "execution_count": 36,
   "metadata": {
    "colab": {
     "base_uri": "https://localhost:8080/",
     "height": 430
    },
    "id": "tpoT_pkENolV",
    "outputId": "882cf4e2-469b-41f3-c6e7-cd0e7140a271"
   },
   "outputs": [
    {
     "data": {
      "image/png": "[encoded data removed]",
      "text/plain": [
       "<Figure size 640x480 with 1 Axes>"
      ]
     },
     "metadata": {},
     "output_type": "display_data"
    }
   ],
   "source": [
    "m = nn.ReLU()\n",
    "\n",
    "x = torch.linspace(-5, 5, 200)\n",
    "y = m(x)\n",
    "plt.plot(x, y)\n",
    "plt.show()"
   ]
  },
  {
   "cell_type": "markdown",
   "metadata": {},
   "source": [
    "### 恒等関数\n",
    "\n",
    "入力をそのまま出力として返す関数"
   ]
  },
  {
   "cell_type": "code",
   "execution_count": 37,
   "metadata": {
    "colab": {
     "base_uri": "https://localhost:8080/",
     "height": 430
    },
    "id": "DfFHFT_BNvJY",
    "outputId": "050ce5cf-e79c-437c-c139-3bd9bad3f945"
   },
   "outputs": [
    {
     "data": {
      "image/png": "[encoded data removed]",
      "text/plain": [
       "<Figure size 640x480 with 1 Axes>"
      ]
     },
     "metadata": {},
     "output_type": "display_data"
    }
   ],
   "source": [
    "x = torch.linspace(-5, 5, 50)\n",
    "y = x\n",
    "plt.plot(x, y)\n",
    "plt.show()"
   ]
  },
  {
   "cell_type": "markdown",
   "metadata": {},
   "source": [
    "### ソフトマックス関数"
   ]
  },
  {
   "cell_type": "code",
   "execution_count": 38,
   "metadata": {
    "colab": {
     "base_uri": "https://localhost:8080/"
    },
    "id": "-D6DXLB0OA4e",
    "outputId": "4747150b-d12c-41e8-ef05-6308d0116783"
   },
   "outputs": [
    {
     "data": {
      "text/plain": [
       "(tensor([[0.0900, 0.2447, 0.6652],\n",
       "         [0.6652, 0.2447, 0.0900]]),\n",
       " tensor([1., 1.]))"
      ]
     },
     "execution_count": 38,
     "metadata": {},
     "output_type": "execute_result"
    }
   ],
   "source": [
    "# 各行でソフトマックスを実施(行の合計値は1になる)\n",
    "m = nn.Softmax(dim=1)\n",
    "\n",
    "x = torch.tensor([[1.0, 2.0, 3.0], [3.0, 2.0, 1.0]])\n",
    "y = m(x)\n",
    "\n",
    "y, torch.sum(y, dim=1)"
   ]
  },
  {
   "cell_type": "markdown",
   "metadata": {
    "id": "UTQ2AESKPaCj"
   },
   "source": [
    "## 損失関数"
   ]
  },
  {
   "cell_type": "code",
   "execution_count": 39,
   "metadata": {},
   "outputs": [],
   "source": [
    "import torch\n",
    "from torch import nn"
   ]
  },
  {
   "cell_type": "markdown",
   "metadata": {},
   "source": [
    "### 平均二乗誤差"
   ]
  },
  {
   "cell_type": "code",
   "execution_count": 40,
   "metadata": {
    "colab": {
     "base_uri": "https://localhost:8080/"
    },
    "id": "jWcwF_WOOy0Z",
    "outputId": "8d0c0a03-6e76-492a-b1c2-2e0a6e75ce80"
   },
   "outputs": [
    {
     "data": {
      "text/plain": [
       "1.0"
      ]
     },
     "execution_count": 40,
     "metadata": {},
     "output_type": "execute_result"
    }
   ],
   "source": [
    "y = torch.tensor([3.0, 3.0, 3.0, 3.0, 3.0]) # 出力\n",
    "t = torch.tensor([2.0, 2.0, 2.0, 2.0, 2.0]) # 正解\n",
    "\n",
    "loss_func = nn.MSELoss()\n",
    "loss = loss_func(y, t)\n",
    "loss.item()"
   ]
  },
  {
   "cell_type": "markdown",
   "metadata": {},
   "source": [
    "### 交差エントロピー誤差"
   ]
  },
  {
   "cell_type": "code",
   "execution_count": 41,
   "metadata": {
    "colab": {
     "base_uri": "https://localhost:8080/"
    },
    "id": "C2OIEsfGPwAc",
    "outputId": "a8cf9bcb-509c-49b7-ef7d-49f1e87c6aed"
   },
   "outputs": [
    {
     "data": {
      "text/plain": [
       "0.40760600566864014"
      ]
     },
     "execution_count": 41,
     "metadata": {},
     "output_type": "execute_result"
    }
   ],
   "source": [
    "x = torch.tensor([[1.0, 2.0, 3.0],      # 入力1\n",
    "                  [3.0, 1.0, 2.0]])     # 入力2\n",
    "t = torch.tensor([2,        # 入力1に対する正解\n",
    "                  0])       # 入力2に対する正解\n",
    "\n",
    "# ソフトマックス & クロスエントロピー誤差を計算\n",
    "loss_func = nn.CrossEntropyLoss()\n",
    "loss = loss_func(x, t)\n",
    "loss.item()"
   ]
  },
  {
   "cell_type": "markdown",
   "metadata": {
    "id": "3XjvIG5MPdu6"
   },
   "source": [
    "## シンプルな深層学習の実装"
   ]
  },
  {
   "cell_type": "code",
   "execution_count": 42,
   "metadata": {},
   "outputs": [],
   "source": [
    "from torch import nn\n",
    "from torch import optim\n",
    "from sklearn import datasets\n",
    "from sklearn.model_selection import train_test_split\n",
    "\n",
    "import matplotlib.pyplot as plt"
   ]
  },
  {
   "cell_type": "markdown",
   "metadata": {},
   "source": [
    "### データ準備"
   ]
  },
  {
   "cell_type": "code",
   "execution_count": 43,
   "metadata": {
    "id": "vZ5oe_zMPfs3"
   },
   "outputs": [],
   "source": [
    "digits_data = datasets.load_digits()"
   ]
  },
  {
   "cell_type": "code",
   "execution_count": 44,
   "metadata": {
    "colab": {
     "base_uri": "https://localhost:8080/",
     "height": 356
    },
    "id": "yUHhz2Q5zYQW",
    "outputId": "c80b10ab-32ff-457d-eb00-ac2c35298567"
   },
   "outputs": [
    {
     "data": {
      "image/png": "[encoded data removed]",
      "text/plain": [
       "<Figure size 1000x400 with 10 Axes>"
      ]
     },
     "metadata": {},
     "output_type": "display_data"
    },
    {
     "name": "stdout",
     "output_type": "stream",
     "text": [
      "(1797, 64)\n"
     ]
    }
   ],
   "source": [
    "# 画像表示\n",
    "n_img = 10\n",
    "plt.figure(figsize=(10, 4))\n",
    "\n",
    "for i in range(n_img):\n",
    "    ax = plt.subplot(2, 5, i + 1)\n",
    "    ax.imshow(digits_data.data[i].reshape(8, 8), cmap=\"Greys_r\")\n",
    "    ax.get_xaxis().set_visible(False)\n",
    "    ax.get_yaxis().set_visible(False)\n",
    "plt.show()\n",
    "\n",
    "print(digits_data.data.shape)"
   ]
  },
  {
   "cell_type": "markdown",
   "metadata": {},
   "source": [
    "### 訓練用とテスト用に分割"
   ]
  },
  {
   "cell_type": "code",
   "execution_count": 45,
   "metadata": {
    "id": "P3yA8jnRP7Mm"
   },
   "outputs": [],
   "source": [
    "digit_images = digits_data.data\n",
    "labels = digits_data.target\n",
    "\n",
    "# 分割\n",
    "x_train, x_test, t_train, t_test = train_test_split(digit_images, labels, test_size=0.2)\n",
    "\n",
    "# Tensorに変換\n",
    "x_train = torch.tensor(x_train, dtype=torch.float32)\n",
    "t_train = torch.tensor(t_train, dtype=torch.int64)\n",
    "x_test  = torch.tensor(x_test, dtype=torch.float32)\n",
    "t_test  = torch.tensor(t_test, dtype=torch.int64)"
   ]
  },
  {
   "cell_type": "markdown",
   "metadata": {},
   "source": [
    "### モデル構築"
   ]
  },
  {
   "cell_type": "code",
   "execution_count": 46,
   "metadata": {
    "id": "gFTZA4bmP7JB"
   },
   "outputs": [],
   "source": [
    "net = nn.Sequential(\n",
    "    nn.Linear(64, 32),\n",
    "    nn.ReLU(),\n",
    "    nn.Linear(32, 16),\n",
    "    nn.ReLU(),\n",
    "    nn.Linear(16, 10)\n",
    ")"
   ]
  },
  {
   "cell_type": "code",
   "execution_count": 47,
   "metadata": {
    "colab": {
     "base_uri": "https://localhost:8080/"
    },
    "id": "utCfJY6l1rTO",
    "outputId": "6750538d-da6a-4fc2-9bfc-abd1469670b9"
   },
   "outputs": [
    {
     "data": {
      "text/plain": [
       "Sequential(\n",
       "  (0): Linear(in_features=64, out_features=32, bias=True)\n",
       "  (1): ReLU()\n",
       "  (2): Linear(in_features=32, out_features=16, bias=True)\n",
       "  (3): ReLU()\n",
       "  (4): Linear(in_features=16, out_features=10, bias=True)\n",
       ")"
      ]
     },
     "execution_count": 47,
     "metadata": {},
     "output_type": "execute_result"
    }
   ],
   "source": [
    "net"
   ]
  },
  {
   "cell_type": "markdown",
   "metadata": {},
   "source": [
    "### 学習"
   ]
  },
  {
   "cell_type": "code",
   "execution_count": 48,
   "metadata": {
    "colab": {
     "base_uri": "https://localhost:8080/"
    },
    "id": "CxN5XRD5QEJB",
    "outputId": "43771a53-0403-4951-e065-b49158910f1b"
   },
   "outputs": [
    {
     "data": {
      "application/vnd.jupyter.widget-view+json": {
       "model_id": "9718a413a8e245fe923a1ab23b214c88",
       "version_major": 2,
       "version_minor": 0
      },
      "text/plain": [
       "  0%|          | 0/1000 [00:00<?, ?it/s]"
      ]
     },
     "metadata": {},
     "output_type": "display_data"
    },
    {
     "name": "stdout",
     "output_type": "stream",
     "text": [
      "Epoch: 0, loss_train: 2.63273, loss_test: 2.58373\n",
      "Epoch: 100, loss_train: 0.94813, loss_test: 1.05967\n",
      "Epoch: 200, loss_train: 0.37946, loss_test: 0.46539\n",
      "Epoch: 300, loss_train: 0.23042, loss_test: 0.30711\n",
      "Epoch: 400, loss_train: 0.16961, loss_test: 0.24635\n",
      "Epoch: 500, loss_train: 0.13536, loss_test: 0.21668\n",
      "Epoch: 600, loss_train: 0.11288, loss_test: 0.19885\n",
      "Epoch: 700, loss_train: 0.09632, loss_test: 0.18721\n",
      "Epoch: 800, loss_train: 0.08338, loss_test: 0.17895\n",
      "Epoch: 900, loss_train: 0.07310, loss_test: 0.17279\n",
      "CPU times: user 12.5 s, sys: 155 ms, total: 12.7 s\n",
      "Wall time: 1.97 s\n"
     ]
    }
   ],
   "source": [
    "%%time\n",
    "loss_func = nn.CrossEntropyLoss()\n",
    "optimizer = optim.SGD(net.parameters(), lr=0.01)    # lr: 学習率\n",
    "\n",
    "record_loss_train = []\n",
    "record_loss_test = []\n",
    "\n",
    "n_epoch = 1000\n",
    "\n",
    "for i in tqdm(range(n_epoch)):\n",
    "    # パラメータの勾配を0に\n",
    "    optimizer.zero_grad()\n",
    "\n",
    "    # 順伝搬\n",
    "    y_train = net(x_train)\n",
    "    y_test = net(x_test)\n",
    "\n",
    "    # 誤差算出\n",
    "    loss_train = loss_func(y_train, t_train)\n",
    "    loss_test = loss_func(y_test, t_test)\n",
    "    record_loss_train.append(loss_train.item())\n",
    "    record_loss_test.append(loss_test.item())\n",
    "\n",
    "    # 逆伝搬\n",
    "    loss_train.backward()\n",
    "\n",
    "    # パラメータ更新\n",
    "    optimizer.step()\n",
    "\n",
    "    if i % 100 == 0:\n",
    "        print(f\"Epoch: {i}, loss_train: {loss_train.item():.5f}, loss_test: {loss_test.item():.5f}\")"
   ]
  },
  {
   "cell_type": "markdown",
   "metadata": {},
   "source": [
    "### 誤差の推移"
   ]
  },
  {
   "cell_type": "code",
   "execution_count": 49,
   "metadata": {
    "colab": {
     "base_uri": "https://localhost:8080/",
     "height": 451
    },
    "id": "um939MzIQE6Q",
    "outputId": "d3871b4b-d24d-468a-d6f9-370782f2e1a5"
   },
   "outputs": [
    {
     "data": {
      "image/png": "[encoded data removed]",
      "text/plain": [
       "<Figure size 640x480 with 1 Axes>"
      ]
     },
     "metadata": {},
     "output_type": "display_data"
    }
   ],
   "source": [
    "plt.plot(record_loss_train, label=\"train\")\n",
    "plt.plot(record_loss_test, label=\"test\")\n",
    "plt.xlabel(\"Epochs\")\n",
    "plt.ylabel(\"Error\")\n",
    "plt.legend()\n",
    "plt.show()"
   ]
  },
  {
   "cell_type": "markdown",
   "metadata": {},
   "source": [
    "### 正答率算出"
   ]
  },
  {
   "cell_type": "code",
   "execution_count": 50,
   "metadata": {
    "colab": {
     "base_uri": "https://localhost:8080/"
    },
    "id": "WOi1Pj6t3vz-",
    "outputId": "97a44ffb-17c9-4ddf-9a2d-094ea2a37502"
   },
   "outputs": [
    {
     "name": "stdout",
     "output_type": "stream",
     "text": [
      "Accuracy: 0.9527777777777777\n"
     ]
    }
   ],
   "source": [
    "y_test = net(x_test)\n",
    "count = (y_test.argmax(1) == t_test).sum().item()\n",
    "print(f\"Accuracy: {count / len(t_test)}\")"
   ]
  },
  {
   "cell_type": "markdown",
   "metadata": {},
   "source": [
    "### 訓練モデルを用いた予測"
   ]
  },
  {
   "cell_type": "code",
   "execution_count": 51,
   "metadata": {
    "colab": {
     "base_uri": "https://localhost:8080/",
     "height": 448
    },
    "id": "WEhJtPJ44Mnz",
    "outputId": "e4596b28-0b90-4c1d-ce0e-113e90d4c33e"
   },
   "outputs": [
    {
     "data": {
      "image/png": "[encoded data removed]",
      "text/plain": [
       "<Figure size 640x480 with 1 Axes>"
      ]
     },
     "metadata": {},
     "output_type": "display_data"
    },
    {
     "name": "stdout",
     "output_type": "stream",
     "text": [
      "正解: 0, 予測: 0\n"
     ]
    }
   ],
   "source": [
    "img_id = 0\n",
    "x_pred = digit_images[img_id]\n",
    "image = x_pred.reshape(8, 8)\n",
    "plt.imshow(image, cmap=\"Greys_r\")\n",
    "plt.show()\n",
    "\n",
    "x_pred = torch.tensor(x_pred, dtype=torch.float32)\n",
    "y_pred = net(x_pred)\n",
    "print(f\"正解: {labels[img_id]}, 予測: {y_pred.argmax().item()}\")"
   ]
  },
  {
   "cell_type": "code",
   "execution_count": null,
   "metadata": {
    "id": "TDYmRL_p45aH"
   },
   "outputs": [],
   "source": []
  }
 ],
 "metadata": {
  "accelerator": "GPU",
  "colab": {
   "authorship_tag": "ABX9TyNYgo0ao/B26NAZPJexeZ26",
   "collapsed_sections": [
    "YuYzTrriKqQs",
    "PCAsLOy1p-y_",
    "kCMJY1Eh7-HM",
    "i-qJqy8DC7G8",
    "zNsGyQq7EobT",
    "yKNfBiriLpK5",
    "tKLujwbLMweb",
    "UTQ2AESKPaCj",
    "3XjvIG5MPdu6"
   ],
   "gpuType": "T4",
   "provenance": [],
   "toc_visible": true
  },
  "kernelspec": {
   "display_name": "Python 3 (ipykernel)",
   "language": "python",
   "name": "python3"
  },
  "language_info": {
   "codemirror_mode": {
    "name": "ipython",
    "version": 3
   },
   "file_extension": ".py",
   "mimetype": "text/x-python",
   "name": "python",
   "nbconvert_exporter": "python",
   "pygments_lexer": "ipython3",
   "version": "3.12.3"
  }
 },
 "nbformat": 4,
 "nbformat_minor": 4
}
