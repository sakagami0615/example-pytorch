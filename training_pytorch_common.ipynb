{
  "nbformat": 4,
  "nbformat_minor": 0,
  "metadata": {
    "colab": {
      "provenance": [],
      "collapsed_sections": [
        "YuYzTrriKqQs",
        "PCAsLOy1p-y_",
        "kCMJY1Eh7-HM",
        "i-qJqy8DC7G8",
        "zNsGyQq7EobT",
        "yKNfBiriLpK5",
        "tKLujwbLMweb",
        "UTQ2AESKPaCj",
        "3XjvIG5MPdu6"
      ],
      "toc_visible": true,
      "gpuType": "T4",
      "authorship_tag": "ABX9TyNYgo0ao/B26NAZPJexeZ26"
    },
    "kernelspec": {
      "name": "python3",
      "display_name": "Python 3"
    },
    "language_info": {
      "name": "python"
    },
    "accelerator": "GPU"
  },
  "cells": [
    {
      "cell_type": "markdown",
      "source": [
        "# training pytorch common"
      ],
      "metadata": {
        "id": "CMBeIte3Ks7R"
      }
    },
    {
      "cell_type": "markdown",
      "source": [
        "## 事前準備"
      ],
      "metadata": {
        "id": "YuYzTrriKqQs"
      }
    },
    {
      "cell_type": "code",
      "source": [
        "!pip list"
      ],
      "metadata": {
        "colab": {
          "base_uri": "https://localhost:8080/"
        },
        "collapsed": true,
        "id": "2OBxXOKEomB0",
        "outputId": "3e0c51be-e568-44ec-92ec-c6ca48d4d5c0"
      },
      "execution_count": null,
      "outputs": [
        {
          "output_type": "stream",
          "name": "stdout",
          "text": [
            "Package                               Version\n",
            "------------------------------------- ------------------\n",
            "absl-py                               1.4.0\n",
            "accelerate                            1.9.0\n",
            "aiofiles                              24.1.0\n",
            "aiohappyeyeballs                      2.6.1\n",
            "aiohttp                               3.12.15\n",
            "aiosignal                             1.4.0\n",
            "alabaster                             1.0.0\n",
            "albucore                              0.0.24\n",
            "albumentations                        2.0.8\n",
            "ale-py                                0.11.2\n",
            "altair                                5.5.0\n",
            "annotated-types                       0.7.0\n",
            "antlr4-python3-runtime                4.9.3\n",
            "anyio                                 4.10.0\n",
            "anywidget                             0.9.18\n",
            "argon2-cffi                           25.1.0\n",
            "argon2-cffi-bindings                  25.1.0\n",
            "array_record                          0.7.2\n",
            "arviz                                 0.22.0\n",
            "astropy                               7.1.0\n",
            "astropy-iers-data                     0.2025.8.4.0.42.59\n",
            "astunparse                            1.6.3\n",
            "atpublic                              5.1\n",
            "attrs                                 25.3.0\n",
            "audioread                             3.0.1\n",
            "autograd                              1.8.0\n",
            "babel                                 2.17.0\n",
            "backcall                              0.2.0\n",
            "backports.tarfile                     1.2.0\n",
            "beautifulsoup4                        4.13.4\n",
            "betterproto                           2.0.0b6\n",
            "bigframes                             2.13.0\n",
            "bigquery-magics                       0.10.2\n",
            "bleach                                6.2.0\n",
            "blinker                               1.9.0\n",
            "blis                                  1.3.0\n",
            "blobfile                              3.0.0\n",
            "blosc2                                3.6.1\n",
            "bokeh                                 3.7.3\n",
            "Bottleneck                            1.4.2\n",
            "bqplot                                0.12.45\n",
            "branca                                0.8.1\n",
            "Brotli                                1.1.0\n",
            "build                                 1.3.0\n",
            "CacheControl                          0.14.3\n",
            "cachetools                            5.5.2\n",
            "catalogue                             2.0.10\n",
            "certifi                               2025.8.3\n",
            "cffi                                  1.17.1\n",
            "chardet                               5.2.0\n",
            "charset-normalizer                    3.4.2\n",
            "chex                                  0.1.90\n",
            "clarabel                              0.11.1\n",
            "click                                 8.2.1\n",
            "cloudpathlib                          0.21.1\n",
            "cloudpickle                           3.1.1\n",
            "cmake                                 3.31.6\n",
            "cmdstanpy                             1.2.5\n",
            "colorcet                              3.1.0\n",
            "colorlover                            0.3.0\n",
            "colour                                0.1.5\n",
            "community                             1.0.0b1\n",
            "confection                            0.1.5\n",
            "cons                                  0.4.7\n",
            "contourpy                             1.3.3\n",
            "cramjam                               2.11.0\n",
            "cryptography                          43.0.3\n",
            "cuda-python                           12.6.2.post1\n",
            "cudf-cu12                             25.6.0\n",
            "cudf-polars-cu12                      25.6.0\n",
            "cufflinks                             0.17.3\n",
            "cuml-cu12                             25.6.0\n",
            "cupy-cuda12x                          13.3.0\n",
            "curl_cffi                             0.13.0\n",
            "cuvs-cu12                             25.6.1\n",
            "cvxopt                                1.3.2\n",
            "cvxpy                                 1.6.7\n",
            "cycler                                0.12.1\n",
            "cyipopt                               1.5.0\n",
            "cymem                                 2.0.11\n",
            "Cython                                3.0.12\n",
            "dask                                  2025.5.0\n",
            "dask-cuda                             25.6.0\n",
            "dask-cudf-cu12                        25.6.0\n",
            "dataproc-spark-connect                0.8.3\n",
            "datasets                              4.0.0\n",
            "db-dtypes                             1.4.3\n",
            "dbus-python                           1.2.18\n",
            "debugpy                               1.8.15\n",
            "decorator                             4.4.2\n",
            "defusedxml                            0.7.1\n",
            "diffusers                             0.34.0\n",
            "dill                                  0.3.8\n",
            "distributed                           2025.5.0\n",
            "distributed-ucxx-cu12                 0.44.0\n",
            "distro                                1.9.0\n",
            "dlib                                  19.24.6\n",
            "dm-tree                               0.1.9\n",
            "docstring_parser                      0.17.0\n",
            "docutils                              0.21.2\n",
            "dopamine_rl                           4.1.2\n",
            "duckdb                                1.3.2\n",
            "earthengine-api                       1.5.24\n",
            "easydict                              1.13\n",
            "editdistance                          0.8.1\n",
            "eerepr                                0.1.2\n",
            "einops                                0.8.1\n",
            "en_core_web_sm                        3.8.0\n",
            "entrypoints                           0.4\n",
            "et_xmlfile                            2.0.0\n",
            "etils                                 1.13.0\n",
            "etuples                               0.3.10\n",
            "Farama-Notifications                  0.0.4\n",
            "fastai                                2.7.19\n",
            "fastapi                               0.116.1\n",
            "fastcore                              1.7.29\n",
            "fastdownload                          0.0.7\n",
            "fastjsonschema                        2.21.1\n",
            "fastprogress                          1.0.3\n",
            "fastrlock                             0.8.3\n",
            "ffmpy                                 0.6.1\n",
            "filelock                              3.18.0\n",
            "firebase-admin                        6.9.0\n",
            "Flask                                 3.1.1\n",
            "flatbuffers                           25.2.10\n",
            "flax                                  0.10.6\n",
            "folium                                0.20.0\n",
            "fonttools                             4.59.0\n",
            "frozendict                            2.4.6\n",
            "frozenlist                            1.7.0\n",
            "fsspec                                2025.3.0\n",
            "future                                1.0.0\n",
            "gast                                  0.6.0\n",
            "gcsfs                                 2025.3.0\n",
            "GDAL                                  3.8.4\n",
            "gdown                                 5.2.0\n",
            "geemap                                0.35.3\n",
            "geocoder                              1.38.1\n",
            "geographiclib                         2.0\n",
            "geopandas                             1.1.1\n",
            "geopy                                 2.4.1\n",
            "gin-config                            0.5.0\n",
            "gitdb                                 4.0.12\n",
            "GitPython                             3.1.45\n",
            "glob2                                 0.7\n",
            "google                                2.0.3\n",
            "google-ai-generativelanguage          0.6.15\n",
            "google-api-core                       2.25.1\n",
            "google-api-python-client              2.177.0\n",
            "google-auth                           2.38.0\n",
            "google-auth-httplib2                  0.2.0\n",
            "google-auth-oauthlib                  1.2.2\n",
            "google-cloud-aiplatform               1.106.0\n",
            "google-cloud-bigquery                 3.35.1\n",
            "google-cloud-bigquery-connection      1.18.3\n",
            "google-cloud-bigquery-storage         2.32.0\n",
            "google-cloud-core                     2.4.3\n",
            "google-cloud-dataproc                 5.21.0\n",
            "google-cloud-datastore                2.21.0\n",
            "google-cloud-firestore                2.21.0\n",
            "google-cloud-functions                1.20.4\n",
            "google-cloud-language                 2.17.2\n",
            "google-cloud-resource-manager         1.14.2\n",
            "google-cloud-spanner                  3.56.0\n",
            "google-cloud-storage                  2.19.0\n",
            "google-cloud-translate                3.21.1\n",
            "google-colab                          1.0.0\n",
            "google-crc32c                         1.7.1\n",
            "google-genai                          1.28.0\n",
            "google-generativeai                   0.8.5\n",
            "google-pasta                          0.2.0\n",
            "google-resumable-media                2.7.2\n",
            "googleapis-common-protos              1.70.0\n",
            "googledrivedownloader                 1.1.0\n",
            "gradio                                5.41.0\n",
            "gradio_client                         1.11.0\n",
            "graphviz                              0.21\n",
            "greenlet                              3.2.3\n",
            "groovy                                0.1.2\n",
            "grpc-google-iam-v1                    0.14.2\n",
            "grpc-interceptor                      0.15.4\n",
            "grpcio                                1.74.0\n",
            "grpcio-status                         1.71.2\n",
            "grpclib                               0.4.8\n",
            "gspread                               6.2.1\n",
            "gspread-dataframe                     4.0.0\n",
            "gym                                   0.25.2\n",
            "gym-notices                           0.1.0\n",
            "gymnasium                             1.2.0\n",
            "h11                                   0.16.0\n",
            "h2                                    4.2.0\n",
            "h5netcdf                              1.6.4\n",
            "h5py                                  3.14.0\n",
            "hdbscan                               0.8.40\n",
            "hf_transfer                           0.1.9\n",
            "hf-xet                                1.1.7\n",
            "highspy                               1.11.0\n",
            "holidays                              0.78\n",
            "holoviews                             1.21.0\n",
            "hpack                                 4.1.0\n",
            "html5lib                              1.1\n",
            "httpcore                              1.0.9\n",
            "httpimport                            1.4.1\n",
            "httplib2                              0.22.0\n",
            "httpx                                 0.28.1\n",
            "huggingface-hub                       0.34.3\n",
            "humanize                              4.12.3\n",
            "hyperframe                            6.1.0\n",
            "hyperopt                              0.2.7\n",
            "ibis-framework                        9.5.0\n",
            "idna                                  3.10\n",
            "imageio                               2.37.0\n",
            "imageio-ffmpeg                        0.6.0\n",
            "imagesize                             1.4.1\n",
            "imbalanced-learn                      0.13.0\n",
            "immutabledict                         4.2.1\n",
            "importlib_metadata                    8.7.0\n",
            "importlib_resources                   6.5.2\n",
            "imutils                               0.5.4\n",
            "inflect                               7.5.0\n",
            "iniconfig                             2.1.0\n",
            "intel-cmplr-lib-ur                    2025.2.0\n",
            "intel-openmp                          2025.2.0\n",
            "ipyevents                             2.0.2\n",
            "ipyfilechooser                        0.6.0\n",
            "ipykernel                             6.17.1\n",
            "ipyleaflet                            0.20.0\n",
            "ipyparallel                           8.8.0\n",
            "ipython                               7.34.0\n",
            "ipython-genutils                      0.2.0\n",
            "ipython-sql                           0.5.0\n",
            "ipytree                               0.2.2\n",
            "ipywidgets                            7.7.1\n",
            "itsdangerous                          2.2.0\n",
            "jaraco.classes                        3.4.0\n",
            "jaraco.context                        6.0.1\n",
            "jaraco.functools                      4.2.1\n",
            "jax                                   0.5.3\n",
            "jax-cuda12-pjrt                       0.5.3\n",
            "jax-cuda12-plugin                     0.5.3\n",
            "jaxlib                                0.5.3\n",
            "jeepney                               0.9.0\n",
            "jieba                                 0.42.1\n",
            "Jinja2                                3.1.6\n",
            "jiter                                 0.10.0\n",
            "joblib                                1.5.1\n",
            "jsonpatch                             1.33\n",
            "jsonpickle                            4.1.1\n",
            "jsonpointer                           3.0.0\n",
            "jsonschema                            4.25.0\n",
            "jsonschema-specifications             2025.4.1\n",
            "jupyter-client                        6.1.12\n",
            "jupyter-console                       6.1.0\n",
            "jupyter_core                          5.8.1\n",
            "jupyter_kernel_gateway                2.5.2\n",
            "jupyter-leaflet                       0.20.0\n",
            "jupyter-server                        1.16.0\n",
            "jupyterlab_pygments                   0.3.0\n",
            "jupyterlab_widgets                    3.0.15\n",
            "jupytext                              1.17.2\n",
            "kaggle                                1.7.4.5\n",
            "kagglehub                             0.3.12\n",
            "keras                                 3.10.0\n",
            "keras-hub                             0.21.1\n",
            "keras-nlp                             0.21.1\n",
            "keyring                               25.6.0\n",
            "keyrings.google-artifactregistry-auth 1.1.2\n",
            "kiwisolver                            1.4.8\n",
            "langchain                             0.3.27\n",
            "langchain-core                        0.3.72\n",
            "langchain-text-splitters              0.3.9\n",
            "langcodes                             3.5.0\n",
            "langsmith                             0.4.12\n",
            "language_data                         1.3.0\n",
            "launchpadlib                          1.10.16\n",
            "lazr.restfulclient                    0.14.4\n",
            "lazr.uri                              1.0.6\n",
            "lazy_loader                           0.4\n",
            "libclang                              18.1.1\n",
            "libcudf-cu12                          25.6.0\n",
            "libcugraph-cu12                       25.6.0\n",
            "libcuml-cu12                          25.6.0\n",
            "libcuvs-cu12                          25.6.1\n",
            "libkvikio-cu12                        25.6.0\n",
            "libpysal                              4.13.0\n",
            "libraft-cu12                          25.6.0\n",
            "librmm-cu12                           25.6.0\n",
            "librosa                               0.11.0\n",
            "libucx-cu12                           1.18.1\n",
            "libucxx-cu12                          0.44.0\n",
            "lightgbm                              4.6.0\n",
            "linkify-it-py                         2.0.3\n",
            "llvmlite                              0.43.0\n",
            "locket                                1.0.0\n",
            "logical-unification                   0.4.6\n",
            "lxml                                  5.4.0\n",
            "Mako                                  1.1.3\n",
            "marisa-trie                           1.2.1\n",
            "Markdown                              3.8.2\n",
            "markdown-it-py                        3.0.0\n",
            "MarkupSafe                            3.0.2\n",
            "matplotlib                            3.10.0\n",
            "matplotlib-inline                     0.1.7\n",
            "matplotlib-venn                       1.1.2\n",
            "mdit-py-plugins                       0.4.2\n",
            "mdurl                                 0.1.2\n",
            "miniKanren                            1.0.5\n",
            "missingno                             0.5.2\n",
            "mistune                               3.1.3\n",
            "mizani                                0.13.5\n",
            "mkl                                   2025.2.0\n",
            "ml_dtypes                             0.5.3\n",
            "mlxtend                               0.23.4\n",
            "more-itertools                        10.7.0\n",
            "moviepy                               1.0.3\n",
            "mpmath                                1.3.0\n",
            "msgpack                               1.1.1\n",
            "multidict                             6.6.3\n",
            "multipledispatch                      1.0.0\n",
            "multiprocess                          0.70.16\n",
            "multitasking                          0.0.12\n",
            "murmurhash                            1.0.13\n",
            "music21                               9.3.0\n",
            "namex                                 0.1.0\n",
            "narwhals                              2.0.1\n",
            "natsort                               8.4.0\n",
            "nbclassic                             1.3.1\n",
            "nbclient                              0.10.2\n",
            "nbconvert                             7.16.6\n",
            "nbformat                              5.10.4\n",
            "ndindex                               1.10.0\n",
            "nest-asyncio                          1.6.0\n",
            "networkx                              3.5\n",
            "nibabel                               5.3.2\n",
            "nltk                                  3.9.1\n",
            "notebook                              6.5.7\n",
            "notebook_shim                         0.2.4\n",
            "numba                                 0.60.0\n",
            "numba-cuda                            0.11.0\n",
            "numexpr                               2.11.0\n",
            "numpy                                 2.0.2\n",
            "nvidia-cublas-cu12                    12.5.3.2\n",
            "nvidia-cuda-cupti-cu12                12.5.82\n",
            "nvidia-cuda-nvcc-cu12                 12.5.82\n",
            "nvidia-cuda-nvrtc-cu12                12.5.82\n",
            "nvidia-cuda-runtime-cu12              12.5.82\n",
            "nvidia-cudnn-cu12                     9.3.0.75\n",
            "nvidia-cufft-cu12                     11.2.3.61\n",
            "nvidia-curand-cu12                    10.3.6.82\n",
            "nvidia-cusolver-cu12                  11.6.3.83\n",
            "nvidia-cusparse-cu12                  12.5.1.3\n",
            "nvidia-cusparselt-cu12                0.6.2\n",
            "nvidia-ml-py                          12.575.51\n",
            "nvidia-nccl-cu12                      2.23.4\n",
            "nvidia-nvjitlink-cu12                 12.5.82\n",
            "nvidia-nvtx-cu12                      12.4.127\n",
            "nvtx                                  0.2.13\n",
            "nx-cugraph-cu12                       25.6.0\n",
            "oauth2client                          4.1.3\n",
            "oauthlib                              3.3.1\n",
            "omegaconf                             2.3.0\n",
            "openai                                1.99.1\n",
            "opencv-contrib-python                 4.12.0.88\n",
            "opencv-python                         4.12.0.88\n",
            "opencv-python-headless                4.12.0.88\n",
            "openpyxl                              3.1.5\n",
            "opt_einsum                            3.4.0\n",
            "optax                                 0.2.5\n",
            "optree                                0.17.0\n",
            "orbax-checkpoint                      0.11.20\n",
            "orjson                                3.11.1\n",
            "osqp                                  1.0.4\n",
            "packaging                             25.0\n",
            "pandas                                2.2.2\n",
            "pandas-datareader                     0.10.0\n",
            "pandas-gbq                            0.29.2\n",
            "pandas-stubs                          2.2.2.240909\n",
            "pandocfilters                         1.5.1\n",
            "panel                                 1.7.5\n",
            "param                                 2.2.1\n",
            "parso                                 0.8.4\n",
            "parsy                                 2.1\n",
            "partd                                 1.4.2\n",
            "patsy                                 1.0.1\n",
            "peewee                                3.18.2\n",
            "peft                                  0.17.0\n",
            "pexpect                               4.9.0\n",
            "pickleshare                           0.7.5\n",
            "pillow                                11.3.0\n",
            "pip                                   24.1.2\n",
            "platformdirs                          4.3.8\n",
            "plotly                                5.24.1\n",
            "plotnine                              0.14.5\n",
            "pluggy                                1.6.0\n",
            "ply                                   3.11\n",
            "polars                                1.25.2\n",
            "pooch                                 1.8.2\n",
            "portpicker                            1.5.2\n",
            "preshed                               3.0.10\n",
            "prettytable                           3.16.0\n",
            "proglog                               0.1.12\n",
            "progressbar2                          4.5.0\n",
            "prometheus_client                     0.22.1\n",
            "promise                               2.3\n",
            "prompt_toolkit                        3.0.51\n",
            "propcache                             0.3.2\n",
            "prophet                               1.1.7\n",
            "proto-plus                            1.26.1\n",
            "protobuf                              5.29.5\n",
            "psutil                                5.9.5\n",
            "psycopg2                              2.9.10\n",
            "psygnal                               0.14.0\n",
            "ptyprocess                            0.7.0\n",
            "py-cpuinfo                            9.0.0\n",
            "py4j                                  0.10.9.7\n",
            "pyarrow                               18.1.0\n",
            "pyasn1                                0.6.1\n",
            "pyasn1_modules                        0.4.2\n",
            "pycairo                               1.28.0\n",
            "pycocotools                           2.0.10\n",
            "pycparser                             2.22\n",
            "pycryptodomex                         3.23.0\n",
            "pydantic                              2.11.7\n",
            "pydantic_core                         2.33.2\n",
            "pydata-google-auth                    1.9.1\n",
            "pydot                                 3.0.4\n",
            "pydotplus                             2.0.2\n",
            "PyDrive2                              1.21.3\n",
            "pydub                                 0.25.1\n",
            "pyerfa                                2.0.1.5\n",
            "pygame                                2.6.1\n",
            "pygit2                                1.18.1\n",
            "Pygments                              2.19.2\n",
            "PyGObject                             3.42.0\n",
            "PyJWT                                 2.10.1\n",
            "pylibcudf-cu12                        25.6.0\n",
            "pylibcugraph-cu12                     25.6.0\n",
            "pylibraft-cu12                        25.6.0\n",
            "pymc                                  5.25.1\n",
            "pynndescent                           0.5.13\n",
            "pynvjitlink-cu12                      0.7.0\n",
            "pynvml                                12.0.0\n",
            "pyogrio                               0.11.1\n",
            "pyomo                                 6.9.2\n",
            "PyOpenGL                              3.1.9\n",
            "pyOpenSSL                             24.2.1\n",
            "pyparsing                             3.2.3\n",
            "pyperclip                             1.9.0\n",
            "pyproj                                3.7.1\n",
            "pyproject_hooks                       1.2.0\n",
            "pyshp                                 2.3.1\n",
            "PySocks                               1.7.1\n",
            "pyspark                               3.5.1\n",
            "pytensor                              2.31.7\n",
            "pytest                                8.4.1\n",
            "python-apt                            0.0.0\n",
            "python-box                            7.3.2\n",
            "python-dateutil                       2.9.0.post0\n",
            "python-louvain                        0.16\n",
            "python-multipart                      0.0.20\n",
            "python-slugify                        8.0.4\n",
            "python-snappy                         0.7.3\n",
            "python-utils                          3.9.1\n",
            "pytz                                  2025.2\n",
            "pyviz_comms                           3.0.6\n",
            "PyWavelets                            1.9.0\n",
            "PyYAML                                6.0.2\n",
            "pyzmq                                 26.2.1\n",
            "raft-dask-cu12                        25.6.0\n",
            "rapids-dask-dependency                25.6.0\n",
            "rapids-logger                         0.1.1\n",
            "ratelim                               0.1.6\n",
            "referencing                           0.36.2\n",
            "regex                                 2024.11.6\n",
            "requests                              2.32.3\n",
            "requests-oauthlib                     2.0.0\n",
            "requests-toolbelt                     1.0.0\n",
            "requirements-parser                   0.9.0\n",
            "rich                                  13.9.4\n",
            "rmm-cu12                              25.6.0\n",
            "roman-numerals-py                     3.1.0\n",
            "rpds-py                               0.26.0\n",
            "rpy2                                  3.5.17\n",
            "rsa                                   4.9.1\n",
            "ruff                                  0.12.7\n",
            "safehttpx                             0.1.6\n",
            "safetensors                           0.6.1\n",
            "scikit-image                          0.25.2\n",
            "scikit-learn                          1.6.1\n",
            "scipy                                 1.16.1\n",
            "scooby                                0.10.1\n",
            "scs                                   3.2.7.post2\n",
            "seaborn                               0.13.2\n",
            "SecretStorage                         3.3.3\n",
            "semantic-version                      2.10.0\n",
            "Send2Trash                            1.8.3\n",
            "sentence-transformers                 5.0.0\n",
            "sentencepiece                         0.2.0\n",
            "sentry-sdk                            2.34.1\n",
            "setuptools                            75.2.0\n",
            "shap                                  0.48.0\n",
            "shapely                               2.1.1\n",
            "shellingham                           1.5.4\n",
            "simple-parsing                        0.1.7\n",
            "simplejson                            3.20.1\n",
            "simsimd                               6.5.0\n",
            "six                                   1.17.0\n",
            "sklearn-compat                        0.1.3\n",
            "sklearn-pandas                        2.2.0\n",
            "slicer                                0.0.8\n",
            "smart_open                            7.3.0.post1\n",
            "smmap                                 5.0.2\n",
            "sniffio                               1.3.1\n",
            "snowballstemmer                       3.0.1\n",
            "sortedcontainers                      2.4.0\n",
            "soundfile                             0.13.1\n",
            "soupsieve                             2.7\n",
            "soxr                                  0.5.0.post1\n",
            "spacy                                 3.8.7\n",
            "spacy-legacy                          3.0.12\n",
            "spacy-loggers                         1.0.5\n",
            "spanner-graph-notebook                1.1.7\n",
            "Sphinx                                8.2.3\n",
            "sphinxcontrib-applehelp               2.0.0\n",
            "sphinxcontrib-devhelp                 2.0.0\n",
            "sphinxcontrib-htmlhelp                2.1.0\n",
            "sphinxcontrib-jsmath                  1.0.1\n",
            "sphinxcontrib-qthelp                  2.0.0\n",
            "sphinxcontrib-serializinghtml         2.0.0\n",
            "SQLAlchemy                            2.0.42\n",
            "sqlglot                               25.20.2\n",
            "sqlparse                              0.5.3\n",
            "srsly                                 2.5.1\n",
            "stanio                                0.5.1\n",
            "starlette                             0.47.2\n",
            "statsmodels                           0.14.5\n",
            "stringzilla                           3.12.5\n",
            "stumpy                                1.13.0\n",
            "sympy                                 1.13.1\n",
            "tables                                3.10.2\n",
            "tabulate                              0.9.0\n",
            "tbb                                   2022.2.0\n",
            "tblib                                 3.1.0\n",
            "tcmlib                                1.4.0\n",
            "tenacity                              8.5.0\n",
            "tensorboard                           2.19.0\n",
            "tensorboard-data-server               0.7.2\n",
            "tensorflow                            2.19.0\n",
            "tensorflow-datasets                   4.9.9\n",
            "tensorflow_decision_forests           1.12.0\n",
            "tensorflow-hub                        0.16.1\n",
            "tensorflow-io-gcs-filesystem          0.37.1\n",
            "tensorflow-metadata                   1.17.2\n",
            "tensorflow-probability                0.25.0\n",
            "tensorflow-text                       2.19.0\n",
            "tensorstore                           0.1.76\n",
            "termcolor                             3.1.0\n",
            "terminado                             0.18.1\n",
            "text-unidecode                        1.3\n",
            "textblob                              0.19.0\n",
            "tf_keras                              2.19.0\n",
            "tf-slim                               1.1.0\n",
            "thinc                                 8.3.6\n",
            "threadpoolctl                         3.6.0\n",
            "tifffile                              2025.6.11\n",
            "tiktoken                              0.10.0\n",
            "timm                                  1.0.19\n",
            "tinycss2                              1.4.0\n",
            "tokenizers                            0.21.4\n",
            "toml                                  0.10.2\n",
            "tomlkit                               0.13.3\n",
            "toolz                                 0.12.1\n",
            "torch                                 2.6.0+cu124\n",
            "torchao                               0.10.0\n",
            "torchaudio                            2.6.0+cu124\n",
            "torchdata                             0.11.0\n",
            "torchsummary                          1.5.1\n",
            "torchtune                             0.6.1\n",
            "torchvision                           0.21.0+cu124\n",
            "tornado                               6.4.2\n",
            "tqdm                                  4.67.1\n",
            "traitlets                             5.7.1\n",
            "traittypes                            0.2.1\n",
            "transformers                          4.55.0\n",
            "treelite                              4.4.1\n",
            "treescope                             0.1.9\n",
            "triton                                3.2.0\n",
            "tsfresh                               0.21.0\n",
            "tweepy                                4.16.0\n",
            "typeguard                             4.4.4\n",
            "typer                                 0.16.0\n",
            "types-pytz                            2025.2.0.20250516\n",
            "types-setuptools                      80.9.0.20250809\n",
            "typing_extensions                     4.14.1\n",
            "typing-inspection                     0.4.1\n",
            "tzdata                                2025.2\n",
            "tzlocal                               5.3.1\n",
            "uc-micro-py                           1.0.3\n",
            "ucx-py-cu12                           0.44.0\n",
            "ucxx-cu12                             0.44.0\n",
            "umap-learn                            0.5.9.post2\n",
            "umf                                   0.11.0\n",
            "uritemplate                           4.2.0\n",
            "urllib3                               2.5.0\n",
            "uvicorn                               0.35.0\n",
            "vega-datasets                         0.9.0\n",
            "wadllib                               1.3.6\n",
            "wandb                                 0.21.0\n",
            "wasabi                                1.1.3\n",
            "wcwidth                               0.2.13\n",
            "weasel                                0.4.1\n",
            "webcolors                             24.11.1\n",
            "webencodings                          0.5.1\n",
            "websocket-client                      1.8.0\n",
            "websockets                            15.0.1\n",
            "Werkzeug                              3.1.3\n",
            "wheel                                 0.45.1\n",
            "widgetsnbextension                    3.6.10\n",
            "wordcloud                             1.9.4\n",
            "wrapt                                 1.17.2\n",
            "wurlitzer                             3.1.1\n",
            "xarray                                2025.7.1\n",
            "xarray-einstats                       0.9.1\n",
            "xgboost                               3.0.3\n",
            "xlrd                                  2.0.2\n",
            "xxhash                                3.5.0\n",
            "xyzservices                           2025.4.0\n",
            "yarl                                  1.20.1\n",
            "ydf                                   0.13.0\n",
            "yellowbrick                           1.5\n",
            "yfinance                              0.2.65\n",
            "zict                                  3.0.0\n",
            "zipp                                  3.23.0\n",
            "zstandard                             0.23.0\n"
          ]
        }
      ]
    },
    {
      "cell_type": "code",
      "execution_count": null,
      "metadata": {
        "colab": {
          "base_uri": "https://localhost:8080/",
          "height": 35
        },
        "id": "4rqr27KXmMUP",
        "outputId": "dff5efd2-827d-4ea9-a533-32360bf82198"
      },
      "outputs": [
        {
          "output_type": "execute_result",
          "data": {
            "text/plain": [
              "'2.6.0+cu124'"
            ],
            "application/vnd.google.colaboratory.intrinsic+json": {
              "type": "string"
            }
          },
          "metadata": {},
          "execution_count": 2
        }
      ],
      "source": [
        "import torch\n",
        "\n",
        "torch.__version__"
      ]
    },
    {
      "cell_type": "markdown",
      "source": [
        "## Tensor"
      ],
      "metadata": {
        "id": "q8OQOVOH75dA"
      }
    },
    {
      "cell_type": "markdown",
      "source": [
        "### Tensor生成"
      ],
      "metadata": {
        "id": "PCAsLOy1p-y_"
      }
    },
    {
      "cell_type": "code",
      "source": [
        "# @title 1次元リストから生成\n",
        "a = torch.tensor([1, 2, 3])\n",
        "\n",
        "f\"value: {a}, type: {type(a)}\""
      ],
      "metadata": {
        "colab": {
          "base_uri": "https://localhost:8080/",
          "height": 35
        },
        "id": "mObY1wQRn7tv",
        "outputId": "d3dcbd1f-af06-4af3-b39f-1a0bf1d326dd"
      },
      "execution_count": null,
      "outputs": [
        {
          "output_type": "execute_result",
          "data": {
            "text/plain": [
              "\"value: tensor([1, 2, 3]), type: <class 'torch.Tensor'>\""
            ],
            "application/vnd.google.colaboratory.intrinsic+json": {
              "type": "string"
            }
          },
          "metadata": {},
          "execution_count": 3
        }
      ]
    },
    {
      "cell_type": "code",
      "source": [
        "# @title 2次元リストから生成\n",
        "b = torch.tensor([[1, 2], [3, 4]])\n",
        "\n",
        "f\"value: {b}, type: {type(b)}\""
      ],
      "metadata": {
        "colab": {
          "base_uri": "https://localhost:8080/",
          "height": 35
        },
        "id": "a8uknU9koxnO",
        "outputId": "be721842-e4d8-494f-89be-2051ba543e8c"
      },
      "execution_count": null,
      "outputs": [
        {
          "output_type": "execute_result",
          "data": {
            "text/plain": [
              "\"value: tensor([[1, 2],\\n        [3, 4]]), type: <class 'torch.Tensor'>\""
            ],
            "application/vnd.google.colaboratory.intrinsic+json": {
              "type": "string"
            }
          },
          "metadata": {},
          "execution_count": 4
        }
      ]
    },
    {
      "cell_type": "code",
      "source": [
        "# @title dtypeを指定し、倍精度のTensorにする\n",
        "c = torch.tensor([[1, 2], [3, 4]], dtype=torch.float64)\n",
        "\n",
        "f\"value: {c}, type: {type(c)}\""
      ],
      "metadata": {
        "colab": {
          "base_uri": "https://localhost:8080/",
          "height": 35
        },
        "id": "snYIA2pppBtf",
        "outputId": "6a2267c2-6eb7-4c5b-a85c-4769b5db1c3f"
      },
      "execution_count": null,
      "outputs": [
        {
          "output_type": "execute_result",
          "data": {
            "text/plain": [
              "\"value: tensor([[1., 2.],\\n        [3., 4.]], dtype=torch.float64), type: <class 'torch.Tensor'>\""
            ],
            "application/vnd.google.colaboratory.intrinsic+json": {
              "type": "string"
            }
          },
          "metadata": {},
          "execution_count": 5
        }
      ]
    },
    {
      "cell_type": "code",
      "source": [
        "# @title 0~9までの整数で初期化\n",
        "d = torch.arange(0, 10)\n",
        "\n",
        "f\"value: {d}, type: {type(d)}\""
      ],
      "metadata": {
        "colab": {
          "base_uri": "https://localhost:8080/",
          "height": 35
        },
        "id": "-dGOOTo1pZ0j",
        "outputId": "9814df91-f831-4bed-91cb-5ced4f74ca7c"
      },
      "execution_count": null,
      "outputs": [
        {
          "output_type": "execute_result",
          "data": {
            "text/plain": [
              "\"value: tensor([0, 1, 2, 3, 4, 5, 6, 7, 8, 9]), type: <class 'torch.Tensor'>\""
            ],
            "application/vnd.google.colaboratory.intrinsic+json": {
              "type": "string"
            }
          },
          "metadata": {},
          "execution_count": 6
        }
      ]
    },
    {
      "cell_type": "code",
      "source": [
        "# @title 全てがゼロの2x3のTensor\n",
        "e = torch.zeros(2, 3)\n",
        "\n",
        "f\"value: {e}, type: {type(e)}\""
      ],
      "metadata": {
        "colab": {
          "base_uri": "https://localhost:8080/",
          "height": 35
        },
        "id": "2zhU2PQppidA",
        "outputId": "bf62a797-169c-40f2-a410-4269c09b5a2c"
      },
      "execution_count": null,
      "outputs": [
        {
          "output_type": "execute_result",
          "data": {
            "text/plain": [
              "\"value: tensor([[0., 0., 0.],\\n        [0., 0., 0.]]), type: <class 'torch.Tensor'>\""
            ],
            "application/vnd.google.colaboratory.intrinsic+json": {
              "type": "string"
            }
          },
          "metadata": {},
          "execution_count": 7
        }
      ]
    },
    {
      "cell_type": "code",
      "source": [
        "# @title 全ての値が乱数の2x3のTensor\n",
        "f = torch.rand(2, 3)\n",
        "\n",
        "f\"value: {f}, type: {type(f)}\""
      ],
      "metadata": {
        "colab": {
          "base_uri": "https://localhost:8080/",
          "height": 35
        },
        "id": "voOR3PuZpp6v",
        "outputId": "fa0eed0f-0cfc-423d-dcda-d932cc4a3ee0"
      },
      "execution_count": null,
      "outputs": [
        {
          "output_type": "execute_result",
          "data": {
            "text/plain": [
              "\"value: tensor([[0.5768, 0.3084, 0.9834],\\n        [0.4286, 0.6024, 0.3800]]), type: <class 'torch.Tensor'>\""
            ],
            "application/vnd.google.colaboratory.intrinsic+json": {
              "type": "string"
            }
          },
          "metadata": {},
          "execution_count": 8
        }
      ]
    },
    {
      "cell_type": "code",
      "source": [
        "# @title Tensorの形状(サイズ)を取得\n",
        "f.size()"
      ],
      "metadata": {
        "colab": {
          "base_uri": "https://localhost:8080/"
        },
        "id": "G5wCltyZpvfV",
        "outputId": "66918d6c-0bf2-4a27-e475-5a725b5ed6d5"
      },
      "execution_count": null,
      "outputs": [
        {
          "output_type": "execute_result",
          "data": {
            "text/plain": [
              "torch.Size([2, 3])"
            ]
          },
          "metadata": {},
          "execution_count": 9
        }
      ]
    },
    {
      "cell_type": "code",
      "source": [
        "# @title -5 ~ 5 までの連続値を10個生成\n",
        "g = torch.linspace(-5, 5, 10)\n",
        "g"
      ],
      "metadata": {
        "colab": {
          "base_uri": "https://localhost:8080/"
        },
        "id": "0NoGfkjdp0eQ",
        "outputId": "a4617ba3-d464-4840-87a0-f475a9632b49"
      },
      "execution_count": null,
      "outputs": [
        {
          "output_type": "execute_result",
          "data": {
            "text/plain": [
              "tensor([-5.0000, -3.8889, -2.7778, -1.6667, -0.5556,  0.5556,  1.6667,  2.7778,\n",
              "         3.8889,  5.0000])"
            ]
          },
          "metadata": {},
          "execution_count": 10
        }
      ]
    },
    {
      "cell_type": "code",
      "source": [
        "# @title Tensor -> Numpy\n",
        "a = torch.tensor([[1, 2], [3, 4]])\n",
        "b = a.numpy()\n",
        "\n",
        "f\"value: {b}, type: {type(b)}\""
      ],
      "metadata": {
        "colab": {
          "base_uri": "https://localhost:8080/",
          "height": 35
        },
        "id": "suRSpBP45I3s",
        "outputId": "3d709bc1-affc-4787-d122-3fcd43b8cd9e"
      },
      "execution_count": null,
      "outputs": [
        {
          "output_type": "execute_result",
          "data": {
            "text/plain": [
              "\"value: [[1 2]\\n [3 4]], type: <class 'numpy.ndarray'>\""
            ],
            "application/vnd.google.colaboratory.intrinsic+json": {
              "type": "string"
            }
          },
          "metadata": {},
          "execution_count": 11
        }
      ]
    },
    {
      "cell_type": "code",
      "source": [
        "# @title Numpy -> Tensor\n",
        "c = torch.from_numpy(b)\n",
        "\n",
        "f\"value: {c}, type: {type(c)}\""
      ],
      "metadata": {
        "colab": {
          "base_uri": "https://localhost:8080/",
          "height": 35
        },
        "id": "JOqHYmYk7PoA",
        "outputId": "b5067282-f388-4d12-ea04-46a05cdab37d"
      },
      "execution_count": null,
      "outputs": [
        {
          "output_type": "execute_result",
          "data": {
            "text/plain": [
              "\"value: tensor([[1, 2],\\n        [3, 4]]), type: <class 'torch.Tensor'>\""
            ],
            "application/vnd.google.colaboratory.intrinsic+json": {
              "type": "string"
            }
          },
          "metadata": {},
          "execution_count": 12
        }
      ]
    },
    {
      "cell_type": "markdown",
      "source": [
        "### Tensorアクセス"
      ],
      "metadata": {
        "id": "kCMJY1Eh7-HM"
      }
    },
    {
      "cell_type": "code",
      "source": [
        "a = torch.tensor([[1, 2, 3], [4, 5, 6]])"
      ],
      "metadata": {
        "id": "kyNY3AFF7hMz"
      },
      "execution_count": null,
      "outputs": []
    },
    {
      "cell_type": "code",
      "source": [
        "# @title 2つのインデックスを指定\n",
        "a[0, 1]"
      ],
      "metadata": {
        "colab": {
          "base_uri": "https://localhost:8080/"
        },
        "id": "ez9PTgYo8nGf",
        "outputId": "3a138404-08e6-48f0-b980-2a64b3cf03bd"
      },
      "execution_count": null,
      "outputs": [
        {
          "output_type": "execute_result",
          "data": {
            "text/plain": [
              "tensor(2)"
            ]
          },
          "metadata": {},
          "execution_count": 14
        }
      ]
    },
    {
      "cell_type": "code",
      "source": [
        "# @title 範囲を指定\n",
        "a[1:2, :2]"
      ],
      "metadata": {
        "colab": {
          "base_uri": "https://localhost:8080/"
        },
        "id": "SH3tvgL-8z4l",
        "outputId": "92e8e773-3f35-4afd-e82d-d2909847d31f"
      },
      "execution_count": null,
      "outputs": [
        {
          "output_type": "execute_result",
          "data": {
            "text/plain": [
              "tensor([[4, 5]])"
            ]
          },
          "metadata": {},
          "execution_count": 15
        }
      ]
    },
    {
      "cell_type": "code",
      "source": [
        "# @title リストで複数のインデックスを指定\n",
        "a[:, [0, 2]]"
      ],
      "metadata": {
        "colab": {
          "base_uri": "https://localhost:8080/"
        },
        "id": "6vP8EabB8z1u",
        "outputId": "f3110048-58b8-4a70-950e-7774efaf0ec4"
      },
      "execution_count": null,
      "outputs": [
        {
          "output_type": "execute_result",
          "data": {
            "text/plain": [
              "tensor([[1, 3],\n",
              "        [4, 6]])"
            ]
          },
          "metadata": {},
          "execution_count": 16
        }
      ]
    },
    {
      "cell_type": "code",
      "source": [
        "# @title 3より大きい要素のみ指定\n",
        "a[a > 3]"
      ],
      "metadata": {
        "colab": {
          "base_uri": "https://localhost:8080/"
        },
        "id": "oyutZv9t8zyG",
        "outputId": "e9baa44f-8af4-4ea6-a279-6ad8012ee9bc"
      },
      "execution_count": null,
      "outputs": [
        {
          "output_type": "execute_result",
          "data": {
            "text/plain": [
              "tensor([4, 5, 6])"
            ]
          },
          "metadata": {},
          "execution_count": 17
        }
      ]
    },
    {
      "cell_type": "code",
      "source": [
        "# @title 要素の変更\n",
        "a[0, 2] = 11\n",
        "a"
      ],
      "metadata": {
        "colab": {
          "base_uri": "https://localhost:8080/"
        },
        "id": "ZBbsj8Mt8zrG",
        "outputId": "c64f3e09-1d8d-4c36-e2e2-33ac2c64d90d"
      },
      "execution_count": null,
      "outputs": [
        {
          "output_type": "execute_result",
          "data": {
            "text/plain": [
              "tensor([[ 1,  2, 11],\n",
              "        [ 4,  5,  6]])"
            ]
          },
          "metadata": {},
          "execution_count": 18
        }
      ]
    },
    {
      "cell_type": "code",
      "source": [
        "# @title 要素の一括変更\n",
        "a[:, 1] = 22\n",
        "a"
      ],
      "metadata": {
        "colab": {
          "base_uri": "https://localhost:8080/"
        },
        "id": "EJwoZb3Y9gSf",
        "outputId": "de773372-ac75-4107-c7a6-e7e2c9c4b74d"
      },
      "execution_count": null,
      "outputs": [
        {
          "output_type": "execute_result",
          "data": {
            "text/plain": [
              "tensor([[ 1, 22, 11],\n",
              "        [ 4, 22,  6]])"
            ]
          },
          "metadata": {},
          "execution_count": 19
        }
      ]
    },
    {
      "cell_type": "code",
      "source": [
        "# @title 10より大きい要素のみ変更\n",
        "a[a > 10] = 33\n",
        "a"
      ],
      "metadata": {
        "colab": {
          "base_uri": "https://localhost:8080/"
        },
        "id": "UGA0tSqu9ltM",
        "outputId": "851d740e-efee-4d34-f872-9a9767aee87f"
      },
      "execution_count": null,
      "outputs": [
        {
          "output_type": "execute_result",
          "data": {
            "text/plain": [
              "tensor([[ 1, 33, 33],\n",
              "        [ 4, 33,  6]])"
            ]
          },
          "metadata": {},
          "execution_count": 20
        }
      ]
    },
    {
      "cell_type": "markdown",
      "source": [
        "### Tensor演算"
      ],
      "metadata": {
        "id": "i-qJqy8DC7G8"
      }
    },
    {
      "cell_type": "code",
      "source": [
        "a = torch.tensor([1, 2, 3])\n",
        "b = torch.tensor([4, 5, 6])\n",
        "\n",
        "c = torch.tensor([[6, 5, 4], [3, 2, 1]])\n",
        "a, b, c"
      ],
      "metadata": {
        "colab": {
          "base_uri": "https://localhost:8080/"
        },
        "id": "bbvWFXcL9tdC",
        "outputId": "971e8515-ff83-41c0-ffb4-784163ae77fd"
      },
      "execution_count": null,
      "outputs": [
        {
          "output_type": "execute_result",
          "data": {
            "text/plain": [
              "(tensor([1, 2, 3]),\n",
              " tensor([4, 5, 6]),\n",
              " tensor([[6, 5, 4],\n",
              "         [3, 2, 1]]))"
            ]
          },
          "metadata": {},
          "execution_count": 21
        }
      ]
    },
    {
      "cell_type": "code",
      "source": [
        "# @title ベクトルとスカラーの演算\n",
        "a + 3"
      ],
      "metadata": {
        "colab": {
          "base_uri": "https://localhost:8080/"
        },
        "id": "iHuIS2NYDhJk",
        "outputId": "79170950-bc21-45d0-8b9c-d2a452537986"
      },
      "execution_count": null,
      "outputs": [
        {
          "output_type": "execute_result",
          "data": {
            "text/plain": [
              "tensor([4, 5, 6])"
            ]
          },
          "metadata": {},
          "execution_count": 22
        }
      ]
    },
    {
      "cell_type": "code",
      "source": [
        "# @title ベクトル同士の演算\n",
        "a + b"
      ],
      "metadata": {
        "colab": {
          "base_uri": "https://localhost:8080/"
        },
        "id": "Gv5LnDKPDkrZ",
        "outputId": "3feabe58-e269-4578-9a63-bb5fadc9569b"
      },
      "execution_count": null,
      "outputs": [
        {
          "output_type": "execute_result",
          "data": {
            "text/plain": [
              "tensor([5, 7, 9])"
            ]
          },
          "metadata": {},
          "execution_count": 23
        }
      ]
    },
    {
      "cell_type": "code",
      "source": [
        "# @title 行列とスカラーの演算\n",
        "c + 3"
      ],
      "metadata": {
        "colab": {
          "base_uri": "https://localhost:8080/"
        },
        "id": "FXGUTzgAD0yW",
        "outputId": "119f1a17-dc9d-41f3-960b-a040a66312e8"
      },
      "execution_count": null,
      "outputs": [
        {
          "output_type": "execute_result",
          "data": {
            "text/plain": [
              "tensor([[9, 8, 7],\n",
              "        [6, 5, 4]])"
            ]
          },
          "metadata": {},
          "execution_count": 24
        }
      ]
    },
    {
      "cell_type": "code",
      "source": [
        "# @title 行列とベクトルの演算\n",
        "# 行列Cの各行に行ベクトルAが加算されている（ブロードキャスト）\n",
        "c + a"
      ],
      "metadata": {
        "colab": {
          "base_uri": "https://localhost:8080/"
        },
        "id": "7zySQv32Dtl8",
        "outputId": "ca0d9da7-cea0-4892-f241-cc30bb887e31"
      },
      "execution_count": null,
      "outputs": [
        {
          "output_type": "execute_result",
          "data": {
            "text/plain": [
              "tensor([[7, 7, 7],\n",
              "        [4, 4, 4]])"
            ]
          },
          "metadata": {},
          "execution_count": 25
        }
      ]
    },
    {
      "cell_type": "code",
      "source": [
        "# @title 行列同士の演算\n",
        "c + c"
      ],
      "metadata": {
        "colab": {
          "base_uri": "https://localhost:8080/"
        },
        "id": "iivTPabrEFYJ",
        "outputId": "cf98d0fd-c60b-44f9-a2b0-902e99f3778d"
      },
      "execution_count": null,
      "outputs": [
        {
          "output_type": "execute_result",
          "data": {
            "text/plain": [
              "tensor([[12, 10,  8],\n",
              "        [ 6,  4,  2]])"
            ]
          },
          "metadata": {},
          "execution_count": 26
        }
      ]
    },
    {
      "cell_type": "markdown",
      "source": [
        "### 形状変換"
      ],
      "metadata": {
        "id": "zNsGyQq7EobT"
      }
    },
    {
      "cell_type": "code",
      "source": [
        "# @title 2次元変換\n",
        "a = torch.tensor([0, 1, 2, 3, 4, 5, 6, 7])\n",
        "b = a.view(2, 4)\n",
        "b"
      ],
      "metadata": {
        "colab": {
          "base_uri": "https://localhost:8080/"
        },
        "id": "t2U3cuu4EVIf",
        "outputId": "815ab140-f97b-45bc-e025-0d6f6ce8ac2d"
      },
      "execution_count": null,
      "outputs": [
        {
          "output_type": "execute_result",
          "data": {
            "text/plain": [
              "tensor([[0, 1, 2, 3],\n",
              "        [4, 5, 6, 7]])"
            ]
          },
          "metadata": {},
          "execution_count": 27
        }
      ]
    },
    {
      "cell_type": "code",
      "source": [
        "# 片方は-1にすると自動計算可能\n",
        "b = a.view(2, -1)\n",
        "b"
      ],
      "metadata": {
        "colab": {
          "base_uri": "https://localhost:8080/"
        },
        "id": "BgMboa1hEyfJ",
        "outputId": "80607e3c-48c5-4fa7-c296-5ea50bc61b54"
      },
      "execution_count": null,
      "outputs": [
        {
          "output_type": "execute_result",
          "data": {
            "text/plain": [
              "tensor([[0, 1, 2, 3],\n",
              "        [4, 5, 6, 7]])"
            ]
          },
          "metadata": {},
          "execution_count": 28
        }
      ]
    },
    {
      "cell_type": "code",
      "source": [
        "# @title 1次元変換\n",
        "c = torch.tensor([[[0, 1], [2, 3]], [[4, 5], [6, 7]]])\n",
        "\n",
        "f = c.view(-1)\n",
        "f"
      ],
      "metadata": {
        "colab": {
          "base_uri": "https://localhost:8080/"
        },
        "id": "AXaKjo4mFAeD",
        "outputId": "432a739a-8704-4602-80dd-568b5f6d2727"
      },
      "execution_count": null,
      "outputs": [
        {
          "output_type": "execute_result",
          "data": {
            "text/plain": [
              "tensor([0, 1, 2, 3, 4, 5, 6, 7])"
            ]
          },
          "metadata": {},
          "execution_count": 29
        }
      ]
    },
    {
      "cell_type": "code",
      "source": [
        "# @title 要素数1の次元を削除\n",
        "\n",
        "# 4次元ベクトル作成\n",
        "g = torch.arange(0, 8).view(1, 2, 1, 4)\n",
        "print((g, g.size()))\n",
        "\n",
        "# 次元削除\n",
        "h = g.squeeze()\n",
        "h, h.size()"
      ],
      "metadata": {
        "colab": {
          "base_uri": "https://localhost:8080/"
        },
        "id": "WLukPbceFUjq",
        "outputId": "0fc8b897-e9fe-498f-d417-64aacd402cb2"
      },
      "execution_count": null,
      "outputs": [
        {
          "output_type": "stream",
          "name": "stdout",
          "text": [
            "(tensor([[[[0, 1, 2, 3]],\n",
            "\n",
            "         [[4, 5, 6, 7]]]]), torch.Size([1, 2, 1, 4]))\n"
          ]
        },
        {
          "output_type": "execute_result",
          "data": {
            "text/plain": [
              "(tensor([[0, 1, 2, 3],\n",
              "         [4, 5, 6, 7]]),\n",
              " torch.Size([2, 4]))"
            ]
          },
          "metadata": {},
          "execution_count": 46
        }
      ]
    },
    {
      "cell_type": "code",
      "source": [
        "# @title 要素数1の次元を追加\n",
        "i = torch.arange(0, 8).view(2, -1)\n",
        "print((i, i.size()))\n",
        "\n",
        "# 一番内側（2）に追加\n",
        "j = i.unsqueeze(2)\n",
        "j, j.size()"
      ],
      "metadata": {
        "colab": {
          "base_uri": "https://localhost:8080/"
        },
        "id": "f3frILifJ_yE",
        "outputId": "bc3f59df-1ea9-4391-8067-4cc4a8ec2d86"
      },
      "execution_count": null,
      "outputs": [
        {
          "output_type": "stream",
          "name": "stdout",
          "text": [
            "(tensor([[0, 1, 2, 3],\n",
            "        [4, 5, 6, 7]]), torch.Size([2, 4]))\n"
          ]
        },
        {
          "output_type": "execute_result",
          "data": {
            "text/plain": [
              "(tensor([[[0],\n",
              "          [1],\n",
              "          [2],\n",
              "          [3]],\n",
              " \n",
              "         [[4],\n",
              "          [5],\n",
              "          [6],\n",
              "          [7]]]),\n",
              " torch.Size([2, 4, 1]))"
            ]
          },
          "metadata": {},
          "execution_count": 45
        }
      ]
    },
    {
      "cell_type": "markdown",
      "source": [
        "### 統計値の計算"
      ],
      "metadata": {
        "id": "yKNfBiriLpK5"
      }
    },
    {
      "cell_type": "code",
      "source": [
        "a = torch.tensor([[1, 2, 3], [4, 5, 6]], dtype=torch.float32)\n",
        "\n",
        "m = torch.mean(a)\n",
        "print(f\"m: {m.item()}\")\n",
        "\n",
        "m = a.mean()\n",
        "print(f\"m: {m.item()}\")\n",
        "\n",
        "# 列ごとの平均\n",
        "print(f\"m: {a.mean(0)}\")\n",
        "\n",
        "print(f\"sum: {torch.sum(a).item()}\")\n",
        "\n",
        "print(f\"max: {torch.max(a).item()}\")\n",
        "\n",
        "print(f\"min: {torch.min(a).item()}\")"
      ],
      "metadata": {
        "colab": {
          "base_uri": "https://localhost:8080/"
        },
        "id": "bImXDiX1LIVp",
        "outputId": "c0ffe3b4-2015-41d1-c054-f8b47fb81113"
      },
      "execution_count": null,
      "outputs": [
        {
          "output_type": "stream",
          "name": "stdout",
          "text": [
            "m: 3.5\n",
            "m: 3.5\n",
            "m: tensor([2.5000, 3.5000, 4.5000])\n",
            "sum: 21.0\n",
            "max: 6.0\n",
            "min: 1.0\n"
          ]
        }
      ]
    },
    {
      "cell_type": "markdown",
      "source": [
        "## 活性化関数"
      ],
      "metadata": {
        "id": "tKLujwbLMweb"
      }
    },
    {
      "cell_type": "code",
      "source": [
        "import torch\n",
        "from torch import nn\n",
        "\n",
        "import matplotlib.pyplot as plt"
      ],
      "metadata": {
        "id": "9aAACO1AL23X"
      },
      "execution_count": null,
      "outputs": []
    },
    {
      "cell_type": "code",
      "source": [
        "# @title シグモイド関数\n",
        "m = nn.Sigmoid()\n",
        "\n",
        "x = torch.linspace(-5, 5, 30)\n",
        "y = m(x)\n",
        "plt.plot(x, y)\n",
        "plt.show()"
      ],
      "metadata": {
        "colab": {
          "base_uri": "https://localhost:8080/",
          "height": 430
        },
        "id": "sYYySlgYNHz0",
        "outputId": "2b2322a2-f9fb-4ed9-a5d8-556a5ef108c6"
      },
      "execution_count": null,
      "outputs": [
        {
          "output_type": "display_data",
          "data": {
            "text/plain": [
              "<Figure size 640x480 with 1 Axes>"
            ],
            "image/png": "[encoded data removed]"
          },
          "metadata": {}
        }
      ]
    },
    {
      "cell_type": "code",
      "source": [
        "# @title tanh関数\n",
        "m = nn.Tanh()\n",
        "\n",
        "x = torch.linspace(-5, 5, 30)\n",
        "y = m(x)\n",
        "plt.plot(x, y)\n",
        "plt.show()"
      ],
      "metadata": {
        "colab": {
          "base_uri": "https://localhost:8080/",
          "height": 430
        },
        "id": "4_NEbXtONSDz",
        "outputId": "261a8c03-5313-4c1b-d4e1-3e35e3b5c468"
      },
      "execution_count": null,
      "outputs": [
        {
          "output_type": "display_data",
          "data": {
            "text/plain": [
              "<Figure size 640x480 with 1 Axes>"
            ],
            "image/png": "[encoded data removed]"
          },
          "metadata": {}
        }
      ]
    },
    {
      "cell_type": "code",
      "source": [
        "# @title ReLU関数\n",
        "m = nn.ReLU()\n",
        "\n",
        "x = torch.linspace(-5, 5, 200)\n",
        "y = m(x)\n",
        "plt.plot(x, y)\n",
        "plt.show()"
      ],
      "metadata": {
        "colab": {
          "base_uri": "https://localhost:8080/",
          "height": 430
        },
        "id": "tpoT_pkENolV",
        "outputId": "882cf4e2-469b-41f3-c6e7-cd0e7140a271"
      },
      "execution_count": null,
      "outputs": [
        {
          "output_type": "display_data",
          "data": {
            "text/plain": [
              "<Figure size 640x480 with 1 Axes>"
            ],
            "image/png": "[encoded data removed]"
          },
          "metadata": {}
        }
      ]
    },
    {
      "cell_type": "code",
      "source": [
        "# @title 恒等関数\n",
        "# 入力をそのまま出力として返す関数\n",
        "x = torch.linspace(-5, 5, 50)\n",
        "y = x\n",
        "plt.plot(x, y)\n",
        "plt.show()"
      ],
      "metadata": {
        "colab": {
          "base_uri": "https://localhost:8080/",
          "height": 430
        },
        "id": "DfFHFT_BNvJY",
        "outputId": "050ce5cf-e79c-437c-c139-3bd9bad3f945"
      },
      "execution_count": null,
      "outputs": [
        {
          "output_type": "display_data",
          "data": {
            "text/plain": [
              "<Figure size 640x480 with 1 Axes>"
            ],
            "image/png": "[encoded data removed]"
          },
          "metadata": {}
        }
      ]
    },
    {
      "cell_type": "code",
      "source": [
        "# @title ソフトマックス関数\n",
        "\n",
        "# 各行でソフトマックスを実施(行の合計値は1になる)\n",
        "m = nn.Softmax(dim=1)\n",
        "\n",
        "x = torch.tensor([[1.0, 2.0, 3.0], [3.0, 2.0, 1.0]])\n",
        "y = m(x)\n",
        "\n",
        "y, torch.sum(y, dim=1)"
      ],
      "metadata": {
        "colab": {
          "base_uri": "https://localhost:8080/"
        },
        "id": "-D6DXLB0OA4e",
        "outputId": "4747150b-d12c-41e8-ef05-6308d0116783"
      },
      "execution_count": null,
      "outputs": [
        {
          "output_type": "execute_result",
          "data": {
            "text/plain": [
              "(tensor([[0.0900, 0.2447, 0.6652],\n",
              "         [0.6652, 0.2447, 0.0900]]),\n",
              " tensor([1., 1.]))"
            ]
          },
          "metadata": {},
          "execution_count": 71
        }
      ]
    },
    {
      "cell_type": "markdown",
      "source": [
        "## 損失関数"
      ],
      "metadata": {
        "id": "UTQ2AESKPaCj"
      }
    },
    {
      "cell_type": "code",
      "source": [
        "# @title 平均二乗誤差\n",
        "import torch\n",
        "from torch import nn\n",
        "\n",
        "y = torch.tensor([3.0, 3.0, 3.0, 3.0, 3.0]) # 出力\n",
        "t = torch.tensor([2.0, 2.0, 2.0, 2.0, 2.0]) # 正解\n",
        "\n",
        "loss_func = nn.MSELoss()\n",
        "loss = loss_func(y, t)\n",
        "loss.item()"
      ],
      "metadata": {
        "colab": {
          "base_uri": "https://localhost:8080/"
        },
        "id": "jWcwF_WOOy0Z",
        "outputId": "8d0c0a03-6e76-492a-b1c2-2e0a6e75ce80"
      },
      "execution_count": null,
      "outputs": [
        {
          "output_type": "execute_result",
          "data": {
            "text/plain": [
              "1.0"
            ]
          },
          "metadata": {},
          "execution_count": 72
        }
      ]
    },
    {
      "cell_type": "code",
      "source": [
        "# @title 交差エントロピー誤差\n",
        "import torch\n",
        "from torch import nn\n",
        "\n",
        "x = torch.tensor([[1.0, 2.0, 3.0],      # 入力1\n",
        "                  [3.0, 1.0, 2.0]])     # 入力2\n",
        "t = torch.tensor([2,        # 入力1に対する正解\n",
        "                  0])       # 入力2に対する正解\n",
        "\n",
        "# ソフトマックス & クロスエントロピー誤差を計算\n",
        "loss_func = nn.CrossEntropyLoss()\n",
        "loss = loss_func(x, t)\n",
        "loss.item()"
      ],
      "metadata": {
        "colab": {
          "base_uri": "https://localhost:8080/"
        },
        "id": "C2OIEsfGPwAc",
        "outputId": "a8cf9bcb-509c-49b7-ef7d-49f1e87c6aed"
      },
      "execution_count": null,
      "outputs": [
        {
          "output_type": "execute_result",
          "data": {
            "text/plain": [
              "0.40760600566864014"
            ]
          },
          "metadata": {},
          "execution_count": 74
        }
      ]
    },
    {
      "cell_type": "markdown",
      "source": [
        "## シンプルな深層学習の実装"
      ],
      "metadata": {
        "id": "3XjvIG5MPdu6"
      }
    },
    {
      "cell_type": "code",
      "source": [
        "# @title データ準備\n",
        "import matplotlib.pyplot as plt\n",
        "from sklearn import datasets\n",
        "\n",
        "digits_data = datasets.load_digits()"
      ],
      "metadata": {
        "id": "vZ5oe_zMPfs3"
      },
      "execution_count": null,
      "outputs": []
    },
    {
      "cell_type": "code",
      "source": [
        "# 画像表示\n",
        "n_img = 10\n",
        "plt.figure(figsize=(10, 4))\n",
        "\n",
        "for i in range(n_img):\n",
        "    ax = plt.subplot(2, 5, i + 1)\n",
        "    ax.imshow(digits_data.data[i].reshape(8, 8), cmap=\"Greys_r\")\n",
        "    ax.get_xaxis().set_visible(False)\n",
        "    ax.get_yaxis().set_visible(False)\n",
        "plt.show()\n",
        "\n",
        "print(digits_data.data.shape)"
      ],
      "metadata": {
        "colab": {
          "base_uri": "https://localhost:8080/",
          "height": 356
        },
        "id": "yUHhz2Q5zYQW",
        "outputId": "c80b10ab-32ff-457d-eb00-ac2c35298567"
      },
      "execution_count": null,
      "outputs": [
        {
          "output_type": "display_data",
          "data": {
            "text/plain": [
              "<Figure size 1000x400 with 10 Axes>"
            ],
            "image/png": "[encoded data removed]"
          },
          "metadata": {}
        },
        {
          "output_type": "stream",
          "name": "stdout",
          "text": [
            "(1797, 64)\n"
          ]
        }
      ]
    },
    {
      "cell_type": "code",
      "source": [
        "# @title 訓練用とテスト用に分割\n",
        "import torch\n",
        "from sklearn.model_selection import train_test_split\n",
        "\n",
        "digit_images = digits_data.data\n",
        "labels = digits_data.target\n",
        "\n",
        "# 分割\n",
        "x_train, x_test, t_train, t_test = train_test_split(digit_images, labels, test_size=0.2)\n",
        "\n",
        "# Tensorに変換\n",
        "x_train = torch.tensor(x_train, dtype=torch.float32)\n",
        "t_train = torch.tensor(t_train, dtype=torch.int64)\n",
        "x_test  = torch.tensor(x_test, dtype=torch.float32)\n",
        "t_test  = torch.tensor(t_test, dtype=torch.int64)"
      ],
      "metadata": {
        "id": "P3yA8jnRP7Mm"
      },
      "execution_count": null,
      "outputs": []
    },
    {
      "cell_type": "code",
      "source": [
        "# @title モデル構築\n",
        "from torch import nn\n",
        "\n",
        "net = nn.Sequential(\n",
        "    nn.Linear(64, 32),\n",
        "    nn.ReLU(),\n",
        "    nn.Linear(32, 16),\n",
        "    nn.ReLU(),\n",
        "    nn.Linear(16, 10)\n",
        ")"
      ],
      "metadata": {
        "id": "gFTZA4bmP7JB"
      },
      "execution_count": null,
      "outputs": []
    },
    {
      "cell_type": "code",
      "source": [
        "net"
      ],
      "metadata": {
        "colab": {
          "base_uri": "https://localhost:8080/"
        },
        "id": "utCfJY6l1rTO",
        "outputId": "6750538d-da6a-4fc2-9bfc-abd1469670b9"
      },
      "execution_count": null,
      "outputs": [
        {
          "output_type": "execute_result",
          "data": {
            "text/plain": [
              "Sequential(\n",
              "  (0): Linear(in_features=64, out_features=32, bias=True)\n",
              "  (1): ReLU()\n",
              "  (2): Linear(in_features=32, out_features=16, bias=True)\n",
              "  (3): ReLU()\n",
              "  (4): Linear(in_features=16, out_features=10, bias=True)\n",
              ")"
            ]
          },
          "metadata": {},
          "execution_count": 27
        }
      ]
    },
    {
      "cell_type": "code",
      "source": [
        "# @title 学習\n",
        "from torch import optim\n",
        "\n",
        "loss_func = nn.CrossEntropyLoss()\n",
        "optimizer = optim.SGD(net.parameters(), lr=0.01)    # lr: 学習率\n",
        "\n",
        "record_loss_train = []\n",
        "record_loss_test = []\n",
        "\n",
        "n_epoch = 1000\n",
        "\n",
        "for i in range(n_epoch):\n",
        "    # パラメータの勾配を0に\n",
        "    optimizer.zero_grad()\n",
        "\n",
        "    # 順伝搬\n",
        "    y_train = net(x_train)\n",
        "    y_test = net(x_test)\n",
        "\n",
        "    # 誤差算出\n",
        "    loss_train = loss_func(y_train, t_train)\n",
        "    loss_test = loss_func(y_test, t_test)\n",
        "    record_loss_train.append(loss_train.item())\n",
        "    record_loss_test.append(loss_test.item())\n",
        "\n",
        "    # 逆伝搬\n",
        "    loss_train.backward()\n",
        "\n",
        "    # パラメータ更新\n",
        "    optimizer.step()\n",
        "\n",
        "    if i % 100 == 0:\n",
        "        print(f\"Epoch: {i}, loss_train: {loss_train.item():.5f}, loss_test: {loss_test.item():.5f}\")"
      ],
      "metadata": {
        "colab": {
          "base_uri": "https://localhost:8080/"
        },
        "id": "CxN5XRD5QEJB",
        "outputId": "43771a53-0403-4951-e065-b49158910f1b"
      },
      "execution_count": null,
      "outputs": [
        {
          "output_type": "stream",
          "name": "stdout",
          "text": [
            "Epoch: 0, loss_train: 2.40135, loss_test: 2.41299\n",
            "Epoch: 100, loss_train: 0.74819, loss_test: 0.68670\n",
            "Epoch: 200, loss_train: 0.37759, loss_test: 0.34700\n",
            "Epoch: 300, loss_train: 0.23975, loss_test: 0.24072\n",
            "Epoch: 400, loss_train: 0.17398, loss_test: 0.19122\n",
            "Epoch: 500, loss_train: 0.13685, loss_test: 0.16277\n",
            "Epoch: 600, loss_train: 0.11352, loss_test: 0.14486\n",
            "Epoch: 700, loss_train: 0.09737, loss_test: 0.13252\n",
            "Epoch: 800, loss_train: 0.08536, loss_test: 0.12356\n",
            "Epoch: 900, loss_train: 0.07598, loss_test: 0.11673\n"
          ]
        }
      ]
    },
    {
      "cell_type": "code",
      "source": [
        "# @title 誤差の推移\n",
        "plt.plot(record_loss_train, label=\"train\")\n",
        "plt.plot(record_loss_test, label=\"test\")\n",
        "plt.xlabel(\"Epochs\")\n",
        "plt.ylabel(\"Error\")\n",
        "plt.legend()\n",
        "plt.show()"
      ],
      "metadata": {
        "colab": {
          "base_uri": "https://localhost:8080/",
          "height": 451
        },
        "id": "um939MzIQE6Q",
        "outputId": "d3871b4b-d24d-468a-d6f9-370782f2e1a5"
      },
      "execution_count": null,
      "outputs": [
        {
          "output_type": "display_data",
          "data": {
            "text/plain": [
              "<Figure size 640x480 with 1 Axes>"
            ],
            "image/png": "[encoded data removed]"
          },
          "metadata": {}
        }
      ]
    },
    {
      "cell_type": "code",
      "source": [
        "# @title 正答率\n",
        "y_test = net(x_test)\n",
        "count = (y_test.argmax(1) == t_test).sum().item()\n",
        "print(f\"Accuracy: {count / len(t_test)}\")"
      ],
      "metadata": {
        "colab": {
          "base_uri": "https://localhost:8080/"
        },
        "id": "WOi1Pj6t3vz-",
        "outputId": "97a44ffb-17c9-4ddf-9a2d-094ea2a37502"
      },
      "execution_count": null,
      "outputs": [
        {
          "output_type": "stream",
          "name": "stdout",
          "text": [
            "Accuracy: 0.9722222222222222\n"
          ]
        }
      ]
    },
    {
      "cell_type": "code",
      "source": [
        "# @title 予測\n",
        "img_id = 0\n",
        "x_pred = digit_images[img_id]\n",
        "image = x_pred.reshape(8, 8)\n",
        "plt.imshow(image, cmap=\"Greys_r\")\n",
        "plt.show()\n",
        "\n",
        "x_pred = torch.tensor(x_pred, dtype=torch.float32)\n",
        "y_pred = net(x_pred)\n",
        "print(f\"正解: {labels[img_id]}, 予測: {y_pred.argmax().item()}\")"
      ],
      "metadata": {
        "colab": {
          "base_uri": "https://localhost:8080/",
          "height": 448
        },
        "id": "WEhJtPJ44Mnz",
        "outputId": "e4596b28-0b90-4c1d-ce0e-113e90d4c33e"
      },
      "execution_count": null,
      "outputs": [
        {
          "output_type": "display_data",
          "data": {
            "text/plain": [
              "<Figure size 640x480 with 1 Axes>"
            ],
            "image/png": "[encoded data removed]"
          },
          "metadata": {}
        },
        {
          "output_type": "stream",
          "name": "stdout",
          "text": [
            "正解: 0, 予測: 0\n"
          ]
        }
      ]
    },
    {
      "cell_type": "code",
      "source": [],
      "metadata": {
        "id": "TDYmRL_p45aH"
      },
      "execution_count": null,
      "outputs": []
    }
  ]
}